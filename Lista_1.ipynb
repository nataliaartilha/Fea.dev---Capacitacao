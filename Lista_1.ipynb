{
 "cells": [
  {
   "cell_type": "markdown",
   "id": "f2550116",
   "metadata": {},
   "source": [
    "1) Faça uma função que receba um número inteiro e retorne se ele é um número primo ou não."
   ]
  },
  {
   "cell_type": "code",
   "execution_count": 8,
   "id": "b3c734fb",
   "metadata": {},
   "outputs": [
    {
     "name": "stdout",
     "output_type": "stream",
     "text": [
      "Escreva um número:7\n",
      "é primo\n"
     ]
    }
   ],
   "source": [
    "### Seu código começa aqui ###\n",
    "contador=0\n",
    "x=int(input(\"Escreva um número:\"))\n",
    "for n in range(1,x+1):\n",
    "    if x%n==0:\n",
    "        contador=contador+1\n",
    "    else:\n",
    "        x\n",
    "if contador==2:\n",
    "    print(\"é primo\")\n",
    "else:\n",
    "    print(\"não é primo\")\n",
    "       \n",
    "    "
   ]
  },
  {
   "cell_type": "markdown",
   "id": "85f87338",
   "metadata": {},
   "source": [
    "2) Crie uma função que calcule o x da fórmula de Bhaskara.\n",
    "\n",
    "A função deverá ter 3 argumentos nomeados como \"a\", \"b\" e \"c\" e retornar o valor do x\n",
    "\n",
    "<img src='https://images.educamaisbrasil.com.br/content/banco_de_imagens/guia-de-estudo/D/formula-bhaskara-matematica.jpg' height=\"100%\" width=\"350\" style=\"margin-left: auto;margin-right: auto\">\n"
   ]
  },
  {
   "cell_type": "code",
   "execution_count": 25,
   "id": "0cd32d79",
   "metadata": {},
   "outputs": [
    {
     "name": "stdout",
     "output_type": "stream",
     "text": [
      "Escreva um número:1\n",
      "Escreva um número:10\n",
      "Escreva um número:1\n",
      "as raízes da função é -0.10102051443364424. e -9.898979485566356.\n"
     ]
    }
   ],
   "source": [
    "### Seu código começa aqui ###\n",
    "import math as m\n",
    "a=int(input(\"Escreva um número:\"))\n",
    "b=int(input(\"Escreva um número:\"))\n",
    "c=int(input(\"Escreva um número:\"))\n",
    "\n",
    "\n",
    "delta=b*b-(4*a*c)\n",
    "if delta<0:\n",
    "    print(\"não existe raíz de número negativo\")\n",
    "else:\n",
    "    x1=(-b+m.sqrt(delta))/(2*a)\n",
    "    x2=(-b-m.sqrt(delta))/(2*a)\n",
    "    print(f'as raízes da função é {x1}. e {x2}.')\n",
    "      \n",
    "\n"
   ]
  },
  {
   "cell_type": "markdown",
   "id": "409836fc",
   "metadata": {},
   "source": [
    "3) Novo conceito: **Função Recursiva**\n",
    "\n",
    " Uma função recursiva é aquela que invoca a si mesmo no corpo da função, ou seja, na sequência de códigos que ela\n",
    "    executa.\n",
    "    \n",
    "    Dessa forma, crie uma função recursiva que calcule o fatorial de um número inteiro (n)\n",
    "    \n",
    "    Dica: fatorial(5) -> 5 * fatorial(4) -> 4 * fatorial (3) ...\n"
   ]
  },
  {
   "cell_type": "code",
   "execution_count": 41,
   "id": "9914fedd",
   "metadata": {},
   "outputs": [
    {
     "name": "stdout",
     "output_type": "stream",
     "text": [
      "Escreva um número:5\n",
      "120\n"
     ]
    }
   ],
   "source": [
    "### Seu código começa aqui ###\n",
    "def fatorial(n:int)->int:\n",
    "    if n==1:\n",
    "        return 1\n",
    "    return n*fatorial(n-1)\n",
    "if __name__==\"__main__\":\n",
    "    resultado=fatorial(int(input(\"Escreva um número:\")))\n",
    "    print(resultado)\n"
   ]
  },
  {
   "attachments": {
    "image.png": {
     "image/png": "[encoded data removed]"
    }
   },
   "cell_type": "markdown",
   "id": "039bbd46",
   "metadata": {},
   "source": [
    "4)\n",
    "Crie uma lista com as notas da Laís durante o semestre:\n",
    "\n",
    "![image.png](attachment:image.png)\n",
    "\n"
   ]
  },
  {
   "cell_type": "code",
   "execution_count": 2,
   "id": "69980e96",
   "metadata": {},
   "outputs": [],
   "source": [
    "### Seu código começa aqui ###\n",
    "notas=[6.7,4.2,0,5,6.2,5.4,5,10]\n",
    "\n"
   ]
  },
  {
   "cell_type": "markdown",
   "id": "8c738133",
   "metadata": {},
   "source": [
    "a) Sabendo que a nota final é uma média aritmética entre provas e exercícios, printe se a\n",
    "Laís foi aprovada? (média final maior ou igual a 5,0)"
   ]
  },
  {
   "cell_type": "code",
   "execution_count": 48,
   "id": "c1efc35a",
   "metadata": {},
   "outputs": [
    {
     "name": "stdout",
     "output_type": "stream",
     "text": [
      "Laís foi aprovada com média 5.3125.\n"
     ]
    }
   ],
   "source": [
    "### Seu código começa aqui ###\n",
    "notas=[6.7,4.2,0,5,6.2,5.4,5,10]\n",
    "media_final=sum(notas)/len(notas)\n",
    "if media_final>=5:\n",
    "    print(f'Laís foi aprovada com média {media_final}.')\n",
    "else:\n",
    "    print(f'Laís foi reprovada com média {media_final}.')\n",
    "\n"
   ]
  },
  {
   "cell_type": "markdown",
   "id": "e543116a",
   "metadata": {},
   "source": [
    "b) O professor descobriu que a Laís copiou o último exercício de um colega, usando a\n",
    "função .pop(), remova o último exercício da lista, recalcule a média e veja se foi\n",
    "aprovada?"
   ]
  },
  {
   "cell_type": "code",
   "execution_count": 50,
   "id": "f444abec",
   "metadata": {},
   "outputs": [
    {
     "name": "stdout",
     "output_type": "stream",
     "text": [
      "Laís foi reprovada com média 4.642857142857143.\n"
     ]
    },
    {
     "data": {
      "text/plain": [
       "[6.7, 4.2, 0, 5, 6.2, 5.4, 5]"
      ]
     },
     "execution_count": 50,
     "metadata": {},
     "output_type": "execute_result"
    }
   ],
   "source": [
    "### Seu código começa aqui ###\n",
    "notas=[6.7,4.2,0,5,6.2,5.4,5,10]\n",
    "notas.pop(-1)\n",
    "media_final=sum(notas)/len(notas)\n",
    "if media_final>=5:\n",
    "    print(f'Laís foi aprovada com média {media_final}.')\n",
    "else:\n",
    "    print(f'Laís foi reprovada com média {media_final}.')\n"
   ]
  },
  {
   "cell_type": "markdown",
   "id": "748e3d5e",
   "metadata": {},
   "source": [
    "c) O professor deu uma chance extra para Laís de fazer um novo exercício, ela tirou 7.5.\n",
    "Adicione esse valor na lista de notas e veja se ela foi aprovada."
   ]
  },
  {
   "cell_type": "code",
   "execution_count": 52,
   "id": "44b69257",
   "metadata": {},
   "outputs": [
    {
     "name": "stdout",
     "output_type": "stream",
     "text": [
      "Laís foi aprovada com média 5.0.\n"
     ]
    },
    {
     "data": {
      "text/plain": [
       "[6.7, 4.2, 0, 5, 6.2, 5.4, 5, 7.5]"
      ]
     },
     "execution_count": 52,
     "metadata": {},
     "output_type": "execute_result"
    }
   ],
   "source": [
    "### Seu código começa aqui ###\n",
    "notas=[6.7,4.2,0,5,6.2,5.4,5,10]\n",
    "notas.pop(-1)\n",
    "notas.append(7.5)\n",
    "media_final=sum(notas)/len(notas)\n",
    "if media_final>=5:\n",
    "    print(f'Laís foi aprovada com média {media_final}.')\n",
    "else:\n",
    "    print(f'Laís foi reprovada com média {media_final}.')\n",
    "\n"
   ]
  }
 ],
 "metadata": {
  "kernelspec": {
   "display_name": "Python 3 (ipykernel)",
   "language": "python",
   "name": "python3"
  },
  "language_info": {
   "codemirror_mode": {
    "name": "ipython",
    "version": 3
   },
   "file_extension": ".py",
   "mimetype": "text/x-python",
   "name": "python",
   "nbconvert_exporter": "python",
   "pygments_lexer": "ipython3",
   "version": "3.9.12"
  }
 },
 "nbformat": 4,
 "nbformat_minor": 5
}
