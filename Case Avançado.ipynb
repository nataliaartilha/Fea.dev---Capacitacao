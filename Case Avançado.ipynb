{
 "cells": [
  {
   "cell_type": "markdown",
   "metadata": {
    "id": "pHPZuEz4nlBA"
   },
   "source": [
    "<div align='center'><a href='https://linktr.ee/fea.dev'/ style='display:inline-block'><img src=\"data:image/png;base64,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\" height=\"100%\" width=\"450\" ><a/><div/>"
   ]
  },
  {
   "cell_type": "markdown",
   "metadata": {
    "id": "TBGvMeDGnlBE"
   },
   "source": [
    "# <font color=blue|blue|red>Jupyter Notebook</font> \n",
    "### 1) O que é o Jupyter Notebook?\n",
    "O Jupyter Notebook é um documento que permite você executar códigos em Python e escrever textos como um word, tudo em um mesmo lugar.\n",
    "\n",
    "### 2) Como eu faço para rodar o código?\n",
    "Para rodar uma célula basta clicar na célula e pressionar **Shift + Enter**. Você também pode rodar uma célula ou mais de uma pelo menu de opções na aba \"Cell\". A células são os retângulos, que podem conter um código em Python ou um texto escrito.\n",
    "\n",
    "### 3) Por que eu posso obter diferentes resultados toda vez que eu rodo a mesma célula?\n",
    "Quando você roda uma célula isso atualiza alguma variável (ex, x = x+1), assim você terá resultados diferentes para x enquanto você rodar várias vezes essa célula.\n",
    "\n",
    "### 4) Estou travado em algum exercício, o que eu faço?\n",
    "Nós recomendamos que você busque alguem do FEA.dev ou busque informações no Google ou no Stack Overflow.\n",
    "\n",
    "### 5) Como eu salvo o meu progresso?\n",
    "Clique em \"File\" na barra de opções e por fim clique na opção \"Save and Checkpoint\"\n",
    "\n",
    "### 6) O que devo fazer se o meu Jupyter travar?\n",
    "Caso isso aconteça você pode tentar reiniciar o Kernel clicando em \"Kernel\" na barra de opções, e por fim selecionando a opção \"Restart\"\n",
    "\n",
    "Caso queira as informações em vídeo recomendamos o seguinte vídeo: https://www.youtube.com/watch?v=m0FbNlhNyQ8\n",
    "Caso você clique nos textos e a formatação dele fique estranha basta rodar essa célula para corrigir.\n",
    "\n",
    "### 7) Como crio novas células (linhas de código)?\n",
    "Clique no sinal de `+` na barra de opções. Você pode arrastar essa célula para cima ou para baixo e também deixa-la como formato de texto (markdown) ou em código (code), faça isso pela barra de opções.  \n",
    "\n",
    "**Importante: Não altere as células dos enunciados**\n",
    "\n",
    "### 8) Como excluo células (linhas de código)?\n",
    "Seleciona a célula a qual deseja excluir e clique no botão com a imagem de uma tesoura.\n",
    "\n",
    "### 9) Ainda estou com dúvidas sobre o Jupyter.\n",
    "Caso isso ocorra pode nos chamar ou se preferir pode assistir o seguinte vídeo: https://www.youtube.com/watch?v=HbsnAGFS1qk"
   ]
  },
  {
   "cell_type": "markdown",
   "metadata": {
    "id": "diBwDzYznlBG"
   },
   "source": [
    "# <font color=blue|blue|red>Case Avançado</font>\n",
    "Muitíssimo parabéns por chegar até aqui e seja bem vindo ao **Case Avançado** do nosso processo seletivo!!\n",
    "\n",
    "Se você escolheu esse case, provavelmente já possui uma certa familiaridade com programação. Não se assuste com o termo \"avançado\", nós temos certeza que você é capaz de resolvê-lo! **O objetivo principal desse case é avaliar o progresso do seu conhecimento em programação com base nas respostas dos exercícios e das informações que você no passou no forms de inscrição.** Por isso, não se preocupe caso não consiga resolver tudo!\n",
    "\n",
    "### <font color=green|black>**Material de Estudo Base:** </font>\n",
    "Recomendamos como material de estudos os seguintes vídeos do nosso canal no YT:\n",
    " - Introdução a Pandas: https://www.youtube.com/watch?v=09yuQzu7o7k\n",
    " - Limpando Dados através do Python: https://www.youtube.com/watch?v=R9wsYGhKXTE\n",
    " - Análise Gráfica com Python: https://www.youtube.com/c/FEADev/videos\n",
    " - Introdução à Bliblioteca Seaborn: https://www.youtube.com/watch?v=y0AEZdbYWEM\n",
    "\n",
    "Como é apenas uma sugestão, <ins>**_você está livre para pesquisar sobre Python em qualquer fonte_**</ins>: Google, Youtube, FEA.dev, Stack Overflow, etc.\n",
    "\n",
    "Pedimos que você **guarde os links** de onde adquiriu seu conhecimento e coloque na sessão fontes ao final deste notebook, para podermos melhor avaliar seu progresso!\n",
    "\n",
    "### <font color=green|black>**Tenho Dúvidas!** </font>\n",
    "Caso tenha dúvidas sobre os exercício ou qualquer outra dúvida <ins>**_sinta-se livre para chamar qualquer um dos nossos membros pelo WhatsApp_**</ins>. Nós não vamos descontar nenhum ponto por você ter nos chamado, por isso não fique com vergonha. Rode a célula abaixo e entre em contato com um de nossos monitores:\n",
    "\n"
   ]
  },
  {
   "cell_type": "code",
   "execution_count": 47,
   "metadata": {
    "colab": {
     "base_uri": "https://localhost:8080/"
    },
    "executionInfo": {
     "elapsed": 19,
     "status": "ok",
     "timestamp": 1650075238285,
     "user": {
      "displayName": "Kevyn Andrade Marcelino",
      "userId": "04506683235566247580"
     },
     "user_tz": 180
    },
    "id": "dXBlm3_RnlBH",
    "outputId": "f2fc4588-13bb-4217-936a-d4eb8a9ba325"
   },
   "outputs": [
    {
     "name": "stdout",
     "output_type": "stream",
     "text": [
      "Seu monitor: Thais Teixeira  - +55 11 97996-1097\n"
     ]
    }
   ],
   "source": [
    "import numpy as np\n",
    "lista_contatos = [\"Kevyn Andrade   - +55 11 97715-7861\",\n",
    "                  \"Thais Teixeira  - +55 11 97996-1097\",\n",
    "                  \"Gustavo Yamachi - +55 13 99760-0375\",\n",
    "                  \"Julio Manuel    - +55 13 99778-2003\",\n",
    "                  \"Lucas Oliveira  - +55 11 95630-6323\",\n",
    "                  \"Geovanna Ferreira - +55 11 96066-7928\",\n",
    "                  \"Thomas Yasuoka - +55 11 9484-1349\",\n",
    "                  \"Tomás Bailez - +55 22 99820-5082\",\n",
    "                  \"Ana Clara Duca - +55 11 95021-0971\",\n",
    "                  \"André Matos - +55 11 94543-1061\"]\n",
    "\n",
    "\n",
    "print(f'Seu monitor: {np.random.choice(lista_contatos)}')\n"
   ]
  },
  {
   "cell_type": "markdown",
   "metadata": {
    "id": "5WSyl1_mnlBJ"
   },
   "source": [
    "### <font color=green|black>**Instruções para o Case:** </font>\n",
    "- O case se trata de 6 exercícios que você deverá responder utilizando da programação como sua aliada na resolução.\n",
    "- Você deve escrever a resposta de cada exercício entre os delimitadores <font color=pink|black|black>*#####SEU CODIGO COMECA AQUI#####*</font> e <font color=pink|black|black>*#####SEU CODIGO TERMINA AQUI#####*</font>.\n",
    "- Nos ordenamos os exercícios de forma que a dificuldade seja crescente. Portanto, recomendamos que sigam a ordem deles.\n",
    "- Todos os resultados de cada exercício deverão ser printados/mostrados/plotados na tela, podendo ser em formato de DataFrames ou gráficos.\n",
    "- Você deve fazer até onde você for capaz. Por isso, não se preocupe caso não tenha conseguido fazer tudo.\n",
    "- No final do jupyter notebook tem uma parte para você colocar todas as fontes que você usou para estudar e para fazer os exercícios. Lembrando que a quantidade nem a qualidade das fontes serão avaliadas. \n",
    "- Todo código que você escrever deverá ser comentado, seja na própria célula de código ou criando novas células de texto (Markdown), veja o exemplo a baixo:\n"
   ]
  },
  {
   "cell_type": "code",
   "execution_count": 48,
   "metadata": {
    "id": "fGYItVIAnlBK"
   },
   "outputs": [
    {
     "name": "stdout",
     "output_type": "stream",
     "text": [
      "20\n"
     ]
    }
   ],
   "source": [
    "\"\"\"Neste exercício você deverá criar duas variáveis com os valores de 10 e 12 e soma-las \"\"\"\n",
    "\n",
    "#####SEU CODIGO COMECA AQUI#####\n",
    "# VARIAVEL COM O NUMERO 10\n",
    "x = 10\n",
    "\n",
    "# VARIAVEL COM O NUMERO 12\n",
    "y = 10\n",
    "\n",
    "# SOMA DAS VARIÁVEIS \"x\" E \"y\"\n",
    "total = x + y\n",
    "\n",
    "print(total)\n",
    "#####SEU CODIGO TERMINA AQUI#####"
   ]
  },
  {
   "cell_type": "markdown",
   "metadata": {
    "id": "DannTUCUnlBc"
   },
   "source": [
    "### BOA SORTE!!!!\n",
    "\n",
    "<img src='https://s3.amazonaws.com/rails-camp-tutorials/blog/programming+memes/programming-or-googling.jpg' height=\"100%\" width=\"350\" style=\"margin-left: auto;margin-right: auto\">"
   ]
  },
  {
   "attachments": {
    "Description-2.png": {
     "image/png": "[encoded data removed]"
    }
   },
   "cell_type": "markdown",
   "metadata": {
    "id": "iJ4ATrYJnlBd"
   },
   "source": [
    "# <font color=blue|blue|red>Sua Quest Principal </font>\n",
    "É o seu primeiro dia como analista de risco no Dev.Credit. Você recebeu como primeira tarefa analisar a database dos empréstimos oferecidos pelo Dev com o intuito de retornar à mesa de diretores com sua avaliação sobre: a situação atual da empresa, as linhas de crédito mais rentáveis e os tipos de pessoas que devem ser o público-alvo do Dev, assim como público que devemos evitar. \n",
    "\n",
    "Sua análise deve focar em responder as seguintes perguntas:\n",
    " \n",
    " 1) Para qual linha de crédito há maior demanda\n",
    " \n",
    " 2) Há diferença entre as taxas média de juros cobradas sobre indíviduos que possuem 6, 12 e 18 meses de tempo de emprego atual? Qual é a média da taxa de juros praticadas sobre cada um desses grupos? \n",
    " \n",
    " 3) Existe alguma correlação entre a faixa etária dos devedores e seus respectivos scores? E em relação à renda: há conexão entre a renda dos indivíduos e a taxa de juros cobradas pelo Dev.Credit?\n",
    " \n",
    " 4) Faça a correlação e agrupamento entre o score (grades) e todas as outras variáveis, incluindo a taxa cobrada no empréstimo, o que é possível auferir com esses dados, É mais provável que o score seja proveniente de outros dados ou o contrário?\n",
    " \n",
    " 5) Considerando que:\n",
    " - A data de concessão desses créditos foi a mesma (01/01/2022)\n",
    " - A data de vencimento dessas dívidas é a mesma (01/01/2023) \n",
    " - Que nenhum dos créditos inadimplentes será recuperado\n",
    "\n",
    "Indique:\n",
    "    \n",
    "    - Qual será a receita total provenientes desses créditos.\n",
    "    - Qual será o prejuízo total proveniente dos calotes\n",
    " \n",
    " 6) Considerando as subdivisões abaixo:\n",
    " \n",
    "![image.png](data:image/png;base64,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)\n",
    "\n",
    "Qual o tipo de pessoa que tem maior probabilidade de dar calote?\n",
    "    \n",
    "<font color=green|black>**Sobre o dataset:** </font>\n",
    "\n",
    "\"Informações sobre as colunas do dataset credit_risk\":\n",
    "![Description-2.png](attachment:Description-2.png)\n",
    "\n",
    "<font color=green|black>**Você decidiu seguir o seguinte plano:** </font>\n",
    "\n",
    " 0. Importação das bibliotecas\n",
    " 1. Atribuição dos dados a uma variável\n",
    " 2. Visualização inicial dos dados do dataframe\n",
    " 3. Visualização gráfica básica e limpeza dos dados\n",
    " 4. Visualização avançada e Agrupamentos\n",
    "     - Resposta do exercício 1\n",
    "     - Resposta do exercício 2\n",
    "     - Resposta do exercício 3\n",
    "     - Resposta do exercício 4\n",
    "     - Resposta do exercício 5\n",
    "     - Resposta do exercício 6\n",
    " 5. Conclusão"
   ]
  },
  {
   "cell_type": "markdown",
   "metadata": {
    "id": "lEayzmR4nlBe"
   },
   "source": [
    "# 0. Importação das Bibliotecas\n",
    " - Reserve a Célula abaixo para importar todas as bibliotecas que serão utilizadas em seu código.\n",
    " - Para cada biblioteca importada, descreva-a resumidamente.\n",
    " - Recomendações de bibliotecas:\n",
    "     - Pandas\n",
    "     - Numpy\n",
    "     - Matplotlib\n",
    "     - Seaborn\n",
    "\n",
    "Obs: você está livre para utilizar qualquer outra biblioteca além dessas, porém deixe claro qual a versão que estará utilizando.\n",
    "\n",
    "<font color=pink|black|black>*###SUA RESPOSTA COMECA AQUI###*</font>"
   ]
  },
  {
   "cell_type": "code",
   "execution_count": 1,
   "metadata": {
    "id": "MmH-BM75nlBf"
   },
   "outputs": [
    {
     "name": "stdout",
     "output_type": "stream",
     "text": [
      "Collecting missingno\n",
      "  Downloading missingno-0.5.1-py3-none-any.whl (8.7 kB)\n",
      "Requirement already satisfied: seaborn in c:\\users\\peere\\anaconda3\\lib\\site-packages (from missingno) (0.11.2)\n",
      "Requirement already satisfied: scipy in c:\\users\\peere\\anaconda3\\lib\\site-packages (from missingno) (1.7.1)\n",
      "Requirement already satisfied: numpy in c:\\users\\peere\\anaconda3\\lib\\site-packages (from missingno) (1.20.3)\n",
      "Requirement already satisfied: matplotlib in c:\\users\\peere\\anaconda3\\lib\\site-packages (from missingno) (3.4.3)\n",
      "Requirement already satisfied: pillow>=6.2.0 in c:\\users\\peere\\anaconda3\\lib\\site-packages (from matplotlib->missingno) (8.4.0)\n",
      "Requirement already satisfied: pyparsing>=2.2.1 in c:\\users\\peere\\anaconda3\\lib\\site-packages (from matplotlib->missingno) (3.0.4)\n",
      "Requirement already satisfied: cycler>=0.10 in c:\\users\\peere\\anaconda3\\lib\\site-packages (from matplotlib->missingno) (0.10.0)\n",
      "Requirement already satisfied: kiwisolver>=1.0.1 in c:\\users\\peere\\anaconda3\\lib\\site-packages (from matplotlib->missingno) (1.3.1)\n",
      "Requirement already satisfied: python-dateutil>=2.7 in c:\\users\\peere\\anaconda3\\lib\\site-packages (from matplotlib->missingno) (2.8.2)\n",
      "Requirement already satisfied: six in c:\\users\\peere\\anaconda3\\lib\\site-packages (from cycler>=0.10->matplotlib->missingno) (1.16.0)\n",
      "Requirement already satisfied: pandas>=0.23 in c:\\users\\peere\\anaconda3\\lib\\site-packages (from seaborn->missingno) (1.3.4)\n",
      "Requirement already satisfied: pytz>=2017.3 in c:\\users\\peere\\anaconda3\\lib\\site-packages (from pandas>=0.23->seaborn->missingno) (2021.3)\n",
      "Installing collected packages: missingno\n",
      "Successfully installed missingno-0.5.1\n"
     ]
    }
   ],
   "source": [
    "!pip install missingno"
   ]
  },
  {
   "cell_type": "code",
   "execution_count": 255,
   "metadata": {
    "ExecuteTime": {
     "start_time": "2022-05-04T01:52:44.999Z"
    }
   },
   "outputs": [],
   "source": [
    "%matplotlib inline\n",
    "\n",
    "import pandas as pd\n",
    "import numpy as np \n",
    "import matplotlib\n",
    "import matplotlib.pyplot as plt\n",
    "import seaborn as sns\n",
    "import missingno as msno\n",
    "import warnings\n",
    "warnings.filterwarnings(\"ignore\")                            "
   ]
  },
  {
   "cell_type": "markdown",
   "metadata": {
    "id": "ie8TAANOnlBg"
   },
   "source": [
    "<font color=pink|black|black>*###SUA RESPOSTA TERMINA AQUI###*</font>"
   ]
  },
  {
   "cell_type": "markdown",
   "metadata": {
    "id": "ooTs0g3_nlBg"
   },
   "source": [
    "# 1. Atribuição dos dados a variáveis\n",
    " - Crie uma variável com o nome **'df'** e atribua a ela o Data Set (Conjunto de Dados) que está presente no arquivo \"dev_credit_risk.csv\"\n",
    "\n",
    "<font color=pink|black|black>*###SUA RESPOSTA COMECA AQUI###*</font>"
   ]
  },
  {
   "cell_type": "code",
   "execution_count": 198,
   "metadata": {
    "id": "RYzVbxEvnlBh"
   },
   "outputs": [
    {
     "data": {
      "text/html": [
       "<div>\n",
       "<style scoped>\n",
       "    .dataframe tbody tr th:only-of-type {\n",
       "        vertical-align: middle;\n",
       "    }\n",
       "\n",
       "    .dataframe tbody tr th {\n",
       "        vertical-align: top;\n",
       "    }\n",
       "\n",
       "    .dataframe thead th {\n",
       "        text-align: right;\n",
       "    }\n",
       "</style>\n",
       "<table border=\"1\" class=\"dataframe\">\n",
       "  <thead>\n",
       "    <tr style=\"text-align: right;\">\n",
       "      <th></th>\n",
       "      <th>Unnamed: 0</th>\n",
       "      <th>person_name</th>\n",
       "      <th>person_age</th>\n",
       "      <th>person_income</th>\n",
       "      <th>person_home_ownership</th>\n",
       "      <th>person_emp_length</th>\n",
       "      <th>loan_intent</th>\n",
       "      <th>loan_grade</th>\n",
       "      <th>loan_amnt</th>\n",
       "      <th>loan_int_rate</th>\n",
       "      <th>loan_status</th>\n",
       "      <th>loan_percent_income</th>\n",
       "      <th>cb_person_default_on_file</th>\n",
       "      <th>cb_person_cred_hist_length</th>\n",
       "    </tr>\n",
       "  </thead>\n",
       "  <tbody>\n",
       "    <tr>\n",
       "      <th>0</th>\n",
       "      <td>0</td>\n",
       "      <td>NaN</td>\n",
       "      <td>23</td>\n",
       "      <td>39292</td>\n",
       "      <td>MORTGAGE</td>\n",
       "      <td>3.0</td>\n",
       "      <td>PERSONAL</td>\n",
       "      <td>A</td>\n",
       "      <td>3250.0</td>\n",
       "      <td>NaN</td>\n",
       "      <td>1</td>\n",
       "      <td>0.08</td>\n",
       "      <td>N</td>\n",
       "      <td>4</td>\n",
       "    </tr>\n",
       "    <tr>\n",
       "      <th>1</th>\n",
       "      <td>1</td>\n",
       "      <td>NaN</td>\n",
       "      <td>32</td>\n",
       "      <td>45000</td>\n",
       "      <td>MORTGAGE</td>\n",
       "      <td>NaN</td>\n",
       "      <td>PERSONAL</td>\n",
       "      <td>B</td>\n",
       "      <td>7200.0</td>\n",
       "      <td>12.69</td>\n",
       "      <td>0</td>\n",
       "      <td>0.16</td>\n",
       "      <td>N</td>\n",
       "      <td>5</td>\n",
       "    </tr>\n",
       "    <tr>\n",
       "      <th>2</th>\n",
       "      <td>2</td>\n",
       "      <td>NaN</td>\n",
       "      <td>34</td>\n",
       "      <td>27000</td>\n",
       "      <td>RENT</td>\n",
       "      <td>3.0</td>\n",
       "      <td>VENTURE</td>\n",
       "      <td>B</td>\n",
       "      <td>2525.0</td>\n",
       "      <td>12.21</td>\n",
       "      <td>0</td>\n",
       "      <td>0.09</td>\n",
       "      <td>N</td>\n",
       "      <td>7</td>\n",
       "    </tr>\n",
       "    <tr>\n",
       "      <th>3</th>\n",
       "      <td>3</td>\n",
       "      <td>NaN</td>\n",
       "      <td>31</td>\n",
       "      <td>82524</td>\n",
       "      <td>MORTGAGE</td>\n",
       "      <td>4.0</td>\n",
       "      <td>VENTURE</td>\n",
       "      <td>A</td>\n",
       "      <td>12000.0</td>\n",
       "      <td>6.62</td>\n",
       "      <td>0</td>\n",
       "      <td>0.15</td>\n",
       "      <td>N</td>\n",
       "      <td>8</td>\n",
       "    </tr>\n",
       "    <tr>\n",
       "      <th>4</th>\n",
       "      <td>4</td>\n",
       "      <td>NaN</td>\n",
       "      <td>23</td>\n",
       "      <td>79992</td>\n",
       "      <td>MORTGAGE</td>\n",
       "      <td>7.0</td>\n",
       "      <td>DEBTCONSOLIDATION</td>\n",
       "      <td>B</td>\n",
       "      <td>6000.0</td>\n",
       "      <td>NaN</td>\n",
       "      <td>0</td>\n",
       "      <td>0.08</td>\n",
       "      <td>N</td>\n",
       "      <td>3</td>\n",
       "    </tr>\n",
       "  </tbody>\n",
       "</table>\n",
       "</div>"
      ],
      "text/plain": [
       "   Unnamed: 0 person_name  person_age  person_income person_home_ownership  \\\n",
       "0           0         NaN          23          39292              MORTGAGE   \n",
       "1           1         NaN          32          45000              MORTGAGE   \n",
       "2           2         NaN          34          27000                  RENT   \n",
       "3           3         NaN          31          82524              MORTGAGE   \n",
       "4           4         NaN          23          79992              MORTGAGE   \n",
       "\n",
       "  person_emp_length        loan_intent loan_grade loan_amnt loan_int_rate  \\\n",
       "0               3.0           PERSONAL          A    3250.0           NaN   \n",
       "1               NaN           PERSONAL          B    7200.0         12.69   \n",
       "2               3.0            VENTURE          B    2525.0         12.21   \n",
       "3               4.0            VENTURE          A   12000.0          6.62   \n",
       "4               7.0  DEBTCONSOLIDATION          B    6000.0           NaN   \n",
       "\n",
       "   loan_status loan_percent_income cb_person_default_on_file  \\\n",
       "0            1                0.08                         N   \n",
       "1            0                0.16                         N   \n",
       "2            0                0.09                         N   \n",
       "3            0                0.15                         N   \n",
       "4            0                0.08                         N   \n",
       "\n",
       "  cb_person_cred_hist_length  \n",
       "0                          4  \n",
       "1                          5  \n",
       "2                          7  \n",
       "3                          8  \n",
       "4                          3  "
      ]
     },
     "execution_count": 198,
     "metadata": {},
     "output_type": "execute_result"
    }
   ],
   "source": [
    "# carregando o conjunto de dados\n",
    "\n",
    "df = pd.read_csv(\"dev_credit_risk.csv\")\n",
    "df.head()"
   ]
  },
  {
   "cell_type": "markdown",
   "metadata": {
    "id": "h-V-FmXVnlBh"
   },
   "source": [
    "<font color=pink|black|black>*###SUA RESPOSTA TERMINA AQUI###*</font>"
   ]
  },
  {
   "cell_type": "markdown",
   "metadata": {
    "id": "dhZEB8Y8nlBh"
   },
   "source": [
    "# 2. Visualização Inicial dos dados\n",
    "Nessa etapa, busque gerar visualizações básicas que irão lhe ajudar na resolução das questões. Recomendamos pelo menos as seguintes:\n",
    " - Visualizar as primeiras linhas do Data Set\n",
    " - Números de linhas e colunas do Data Set\n",
    " - Quais são as colunas do Data Set\n",
    " - Quais são os tipos de dados presentes em cada coluna (float, int, object)\n",
    "     - **Obs**: o tipo object geralmente são strings\n",
    " - Visualizar algumas medidas de posição dos dados (média, mediana, moda)\n",
    " - Checar a quantidade de dados faltantes (NaN)\n",
    "\n",
    "Lembrando: Abuse de sua criatividade e sinta-se livre para realizar outras visualizações!!\n",
    "\n",
    "<font color=pink|black|black>*###SUA RESPOSTA COMECA AQUI###*</font>"
   ]
  },
  {
   "cell_type": "code",
   "execution_count": 199,
   "metadata": {
    "id": "qHZhcIA3nlBi"
   },
   "outputs": [
    {
     "data": {
      "text/html": [
       "<div>\n",
       "<style scoped>\n",
       "    .dataframe tbody tr th:only-of-type {\n",
       "        vertical-align: middle;\n",
       "    }\n",
       "\n",
       "    .dataframe tbody tr th {\n",
       "        vertical-align: top;\n",
       "    }\n",
       "\n",
       "    .dataframe thead th {\n",
       "        text-align: right;\n",
       "    }\n",
       "</style>\n",
       "<table border=\"1\" class=\"dataframe\">\n",
       "  <thead>\n",
       "    <tr style=\"text-align: right;\">\n",
       "      <th></th>\n",
       "      <th>Unnamed: 0</th>\n",
       "      <th>person_name</th>\n",
       "      <th>person_age</th>\n",
       "      <th>person_income</th>\n",
       "      <th>person_home_ownership</th>\n",
       "      <th>person_emp_length</th>\n",
       "      <th>loan_intent</th>\n",
       "      <th>loan_grade</th>\n",
       "      <th>loan_amnt</th>\n",
       "      <th>loan_int_rate</th>\n",
       "      <th>loan_status</th>\n",
       "      <th>loan_percent_income</th>\n",
       "      <th>cb_person_default_on_file</th>\n",
       "      <th>cb_person_cred_hist_length</th>\n",
       "    </tr>\n",
       "  </thead>\n",
       "  <tbody>\n",
       "    <tr>\n",
       "      <th>0</th>\n",
       "      <td>0</td>\n",
       "      <td>NaN</td>\n",
       "      <td>23</td>\n",
       "      <td>39292</td>\n",
       "      <td>MORTGAGE</td>\n",
       "      <td>3.0</td>\n",
       "      <td>PERSONAL</td>\n",
       "      <td>A</td>\n",
       "      <td>3250.0</td>\n",
       "      <td>NaN</td>\n",
       "      <td>1</td>\n",
       "      <td>0.08</td>\n",
       "      <td>N</td>\n",
       "      <td>4</td>\n",
       "    </tr>\n",
       "    <tr>\n",
       "      <th>1</th>\n",
       "      <td>1</td>\n",
       "      <td>NaN</td>\n",
       "      <td>32</td>\n",
       "      <td>45000</td>\n",
       "      <td>MORTGAGE</td>\n",
       "      <td>NaN</td>\n",
       "      <td>PERSONAL</td>\n",
       "      <td>B</td>\n",
       "      <td>7200.0</td>\n",
       "      <td>12.69</td>\n",
       "      <td>0</td>\n",
       "      <td>0.16</td>\n",
       "      <td>N</td>\n",
       "      <td>5</td>\n",
       "    </tr>\n",
       "    <tr>\n",
       "      <th>2</th>\n",
       "      <td>2</td>\n",
       "      <td>NaN</td>\n",
       "      <td>34</td>\n",
       "      <td>27000</td>\n",
       "      <td>RENT</td>\n",
       "      <td>3.0</td>\n",
       "      <td>VENTURE</td>\n",
       "      <td>B</td>\n",
       "      <td>2525.0</td>\n",
       "      <td>12.21</td>\n",
       "      <td>0</td>\n",
       "      <td>0.09</td>\n",
       "      <td>N</td>\n",
       "      <td>7</td>\n",
       "    </tr>\n",
       "    <tr>\n",
       "      <th>3</th>\n",
       "      <td>3</td>\n",
       "      <td>NaN</td>\n",
       "      <td>31</td>\n",
       "      <td>82524</td>\n",
       "      <td>MORTGAGE</td>\n",
       "      <td>4.0</td>\n",
       "      <td>VENTURE</td>\n",
       "      <td>A</td>\n",
       "      <td>12000.0</td>\n",
       "      <td>6.62</td>\n",
       "      <td>0</td>\n",
       "      <td>0.15</td>\n",
       "      <td>N</td>\n",
       "      <td>8</td>\n",
       "    </tr>\n",
       "    <tr>\n",
       "      <th>4</th>\n",
       "      <td>4</td>\n",
       "      <td>NaN</td>\n",
       "      <td>23</td>\n",
       "      <td>79992</td>\n",
       "      <td>MORTGAGE</td>\n",
       "      <td>7.0</td>\n",
       "      <td>DEBTCONSOLIDATION</td>\n",
       "      <td>B</td>\n",
       "      <td>6000.0</td>\n",
       "      <td>NaN</td>\n",
       "      <td>0</td>\n",
       "      <td>0.08</td>\n",
       "      <td>N</td>\n",
       "      <td>3</td>\n",
       "    </tr>\n",
       "  </tbody>\n",
       "</table>\n",
       "</div>"
      ],
      "text/plain": [
       "   Unnamed: 0 person_name  person_age  person_income person_home_ownership  \\\n",
       "0           0         NaN          23          39292              MORTGAGE   \n",
       "1           1         NaN          32          45000              MORTGAGE   \n",
       "2           2         NaN          34          27000                  RENT   \n",
       "3           3         NaN          31          82524              MORTGAGE   \n",
       "4           4         NaN          23          79992              MORTGAGE   \n",
       "\n",
       "  person_emp_length        loan_intent loan_grade loan_amnt loan_int_rate  \\\n",
       "0               3.0           PERSONAL          A    3250.0           NaN   \n",
       "1               NaN           PERSONAL          B    7200.0         12.69   \n",
       "2               3.0            VENTURE          B    2525.0         12.21   \n",
       "3               4.0            VENTURE          A   12000.0          6.62   \n",
       "4               7.0  DEBTCONSOLIDATION          B    6000.0           NaN   \n",
       "\n",
       "   loan_status loan_percent_income cb_person_default_on_file  \\\n",
       "0            1                0.08                         N   \n",
       "1            0                0.16                         N   \n",
       "2            0                0.09                         N   \n",
       "3            0                0.15                         N   \n",
       "4            0                0.08                         N   \n",
       "\n",
       "  cb_person_cred_hist_length  \n",
       "0                          4  \n",
       "1                          5  \n",
       "2                          7  \n",
       "3                          8  \n",
       "4                          3  "
      ]
     },
     "execution_count": 199,
     "metadata": {},
     "output_type": "execute_result"
    }
   ],
   "source": [
    "# Visualização das primeiras linhas\n",
    "\n",
    "df.head()"
   ]
  },
  {
   "cell_type": "code",
   "execution_count": 200,
   "metadata": {},
   "outputs": [
    {
     "data": {
      "text/html": [
       "<div>\n",
       "<style scoped>\n",
       "    .dataframe tbody tr th:only-of-type {\n",
       "        vertical-align: middle;\n",
       "    }\n",
       "\n",
       "    .dataframe tbody tr th {\n",
       "        vertical-align: top;\n",
       "    }\n",
       "\n",
       "    .dataframe thead th {\n",
       "        text-align: right;\n",
       "    }\n",
       "</style>\n",
       "<table border=\"1\" class=\"dataframe\">\n",
       "  <thead>\n",
       "    <tr style=\"text-align: right;\">\n",
       "      <th></th>\n",
       "      <th>Unnamed: 0</th>\n",
       "      <th>person_name</th>\n",
       "      <th>person_age</th>\n",
       "      <th>person_income</th>\n",
       "      <th>person_home_ownership</th>\n",
       "      <th>person_emp_length</th>\n",
       "      <th>loan_intent</th>\n",
       "      <th>loan_grade</th>\n",
       "      <th>loan_amnt</th>\n",
       "      <th>loan_int_rate</th>\n",
       "      <th>loan_status</th>\n",
       "      <th>loan_percent_income</th>\n",
       "      <th>cb_person_default_on_file</th>\n",
       "      <th>cb_person_cred_hist_length</th>\n",
       "    </tr>\n",
       "  </thead>\n",
       "  <tbody>\n",
       "    <tr>\n",
       "      <th>33433</th>\n",
       "      <td>33433</td>\n",
       "      <td>NaN</td>\n",
       "      <td>43</td>\n",
       "      <td>86044</td>\n",
       "      <td>MORTGAGE</td>\n",
       "      <td>16.0</td>\n",
       "      <td>HOMEIMPROVEMENT</td>\n",
       "      <td>A</td>\n",
       "      <td>6500.0</td>\n",
       "      <td>7.74</td>\n",
       "      <td>0</td>\n",
       "      <td>0.08</td>\n",
       "      <td>N</td>\n",
       "      <td>13</td>\n",
       "    </tr>\n",
       "    <tr>\n",
       "      <th>33434</th>\n",
       "      <td>33434</td>\n",
       "      <td>NaN</td>\n",
       "      <td>23</td>\n",
       "      <td>57500</td>\n",
       "      <td>RENT</td>\n",
       "      <td>2.0</td>\n",
       "      <td>MEDICAL</td>\n",
       "      <td>B</td>\n",
       "      <td>9000.0</td>\n",
       "      <td>10.37</td>\n",
       "      <td>0</td>\n",
       "      <td>0.16</td>\n",
       "      <td>N</td>\n",
       "      <td>3</td>\n",
       "    </tr>\n",
       "    <tr>\n",
       "      <th>33435</th>\n",
       "      <td>33435</td>\n",
       "      <td>NaN</td>\n",
       "      <td>22</td>\n",
       "      <td>90000</td>\n",
       "      <td>RENT</td>\n",
       "      <td>0.0</td>\n",
       "      <td>EDUCATION</td>\n",
       "      <td>A</td>\n",
       "      <td>8000.0</td>\n",
       "      <td>7.49</td>\n",
       "      <td>0</td>\n",
       "      <td>0.09</td>\n",
       "      <td>N</td>\n",
       "      <td>3</td>\n",
       "    </tr>\n",
       "    <tr>\n",
       "      <th>33436</th>\n",
       "      <td>33436</td>\n",
       "      <td>NaN</td>\n",
       "      <td>24</td>\n",
       "      <td>86854</td>\n",
       "      <td>RENT</td>\n",
       "      <td>8.0</td>\n",
       "      <td>VENTURE</td>\n",
       "      <td>A</td>\n",
       "      <td>4500.0</td>\n",
       "      <td>NaN</td>\n",
       "      <td>0</td>\n",
       "      <td>0.05</td>\n",
       "      <td>N</td>\n",
       "      <td>4</td>\n",
       "    </tr>\n",
       "    <tr>\n",
       "      <th>33437</th>\n",
       "      <td>33437</td>\n",
       "      <td>NaN</td>\n",
       "      <td>27</td>\n",
       "      <td>80000</td>\n",
       "      <td>RENT</td>\n",
       "      <td>5.0</td>\n",
       "      <td>HOMEIMPROVEMENT</td>\n",
       "      <td>A</td>\n",
       "      <td>16000.0</td>\n",
       "      <td>7.49</td>\n",
       "      <td>0</td>\n",
       "      <td>0.2</td>\n",
       "      <td>N</td>\n",
       "      <td>8</td>\n",
       "    </tr>\n",
       "  </tbody>\n",
       "</table>\n",
       "</div>"
      ],
      "text/plain": [
       "       Unnamed: 0 person_name  person_age  person_income  \\\n",
       "33433       33433         NaN          43          86044   \n",
       "33434       33434         NaN          23          57500   \n",
       "33435       33435         NaN          22          90000   \n",
       "33436       33436         NaN          24          86854   \n",
       "33437       33437         NaN          27          80000   \n",
       "\n",
       "      person_home_ownership person_emp_length      loan_intent loan_grade  \\\n",
       "33433              MORTGAGE              16.0  HOMEIMPROVEMENT          A   \n",
       "33434                  RENT               2.0          MEDICAL          B   \n",
       "33435                  RENT               0.0        EDUCATION          A   \n",
       "33436                  RENT               8.0          VENTURE          A   \n",
       "33437                  RENT               5.0  HOMEIMPROVEMENT          A   \n",
       "\n",
       "      loan_amnt loan_int_rate  loan_status loan_percent_income  \\\n",
       "33433    6500.0          7.74            0                0.08   \n",
       "33434    9000.0         10.37            0                0.16   \n",
       "33435    8000.0          7.49            0                0.09   \n",
       "33436    4500.0           NaN            0                0.05   \n",
       "33437   16000.0          7.49            0                 0.2   \n",
       "\n",
       "      cb_person_default_on_file cb_person_cred_hist_length  \n",
       "33433                         N                         13  \n",
       "33434                         N                          3  \n",
       "33435                         N                          3  \n",
       "33436                         N                          4  \n",
       "33437                         N                          8  "
      ]
     },
     "execution_count": 200,
     "metadata": {},
     "output_type": "execute_result"
    }
   ],
   "source": [
    "# visualizando os últimos dados do dataset\n",
    "\n",
    "df.tail()"
   ]
  },
  {
   "cell_type": "code",
   "execution_count": 201,
   "metadata": {},
   "outputs": [
    {
     "data": {
      "text/html": [
       "<div>\n",
       "<style scoped>\n",
       "    .dataframe tbody tr th:only-of-type {\n",
       "        vertical-align: middle;\n",
       "    }\n",
       "\n",
       "    .dataframe tbody tr th {\n",
       "        vertical-align: top;\n",
       "    }\n",
       "\n",
       "    .dataframe thead th {\n",
       "        text-align: right;\n",
       "    }\n",
       "</style>\n",
       "<table border=\"1\" class=\"dataframe\">\n",
       "  <thead>\n",
       "    <tr style=\"text-align: right;\">\n",
       "      <th></th>\n",
       "      <th>Unnamed: 0</th>\n",
       "      <th>person_name</th>\n",
       "      <th>person_age</th>\n",
       "      <th>person_income</th>\n",
       "      <th>person_home_ownership</th>\n",
       "      <th>person_emp_length</th>\n",
       "      <th>loan_intent</th>\n",
       "      <th>loan_grade</th>\n",
       "      <th>loan_amnt</th>\n",
       "      <th>loan_int_rate</th>\n",
       "      <th>loan_status</th>\n",
       "      <th>loan_percent_income</th>\n",
       "      <th>cb_person_default_on_file</th>\n",
       "      <th>cb_person_cred_hist_length</th>\n",
       "    </tr>\n",
       "  </thead>\n",
       "  <tbody>\n",
       "    <tr>\n",
       "      <th>count</th>\n",
       "      <td>33438.000000</td>\n",
       "      <td>44</td>\n",
       "      <td>33438.000000</td>\n",
       "      <td>3.343800e+04</td>\n",
       "      <td>33438</td>\n",
       "      <td>32522</td>\n",
       "      <td>33438</td>\n",
       "      <td>33438</td>\n",
       "      <td>33059</td>\n",
       "      <td>30251</td>\n",
       "      <td>33438.000000</td>\n",
       "      <td>33438</td>\n",
       "      <td>33438</td>\n",
       "      <td>33438</td>\n",
       "    </tr>\n",
       "    <tr>\n",
       "      <th>unique</th>\n",
       "      <td>NaN</td>\n",
       "      <td>44</td>\n",
       "      <td>NaN</td>\n",
       "      <td>NaN</td>\n",
       "      <td>5</td>\n",
       "      <td>37</td>\n",
       "      <td>7</td>\n",
       "      <td>8</td>\n",
       "      <td>735</td>\n",
       "      <td>349</td>\n",
       "      <td>NaN</td>\n",
       "      <td>78</td>\n",
       "      <td>2</td>\n",
       "      <td>30</td>\n",
       "    </tr>\n",
       "    <tr>\n",
       "      <th>top</th>\n",
       "      <td>NaN</td>\n",
       "      <td>Edgar Ramos</td>\n",
       "      <td>NaN</td>\n",
       "      <td>NaN</td>\n",
       "      <td>RENT</td>\n",
       "      <td>0.0</td>\n",
       "      <td>EDUCATION</td>\n",
       "      <td>A</td>\n",
       "      <td>10000.0</td>\n",
       "      <td>7.51</td>\n",
       "      <td>NaN</td>\n",
       "      <td>0.1</td>\n",
       "      <td>N</td>\n",
       "      <td>2</td>\n",
       "    </tr>\n",
       "    <tr>\n",
       "      <th>freq</th>\n",
       "      <td>NaN</td>\n",
       "      <td>1</td>\n",
       "      <td>NaN</td>\n",
       "      <td>NaN</td>\n",
       "      <td>16885</td>\n",
       "      <td>4209</td>\n",
       "      <td>6626</td>\n",
       "      <td>11057</td>\n",
       "      <td>2731</td>\n",
       "      <td>771</td>\n",
       "      <td>NaN</td>\n",
       "      <td>1573</td>\n",
       "      <td>27558</td>\n",
       "      <td>6120</td>\n",
       "    </tr>\n",
       "    <tr>\n",
       "      <th>mean</th>\n",
       "      <td>16718.500000</td>\n",
       "      <td>NaN</td>\n",
       "      <td>27.703989</td>\n",
       "      <td>6.734506e+04</td>\n",
       "      <td>NaN</td>\n",
       "      <td>NaN</td>\n",
       "      <td>NaN</td>\n",
       "      <td>NaN</td>\n",
       "      <td>NaN</td>\n",
       "      <td>NaN</td>\n",
       "      <td>0.217029</td>\n",
       "      <td>NaN</td>\n",
       "      <td>NaN</td>\n",
       "      <td>NaN</td>\n",
       "    </tr>\n",
       "    <tr>\n",
       "      <th>std</th>\n",
       "      <td>9652.863487</td>\n",
       "      <td>NaN</td>\n",
       "      <td>6.412270</td>\n",
       "      <td>7.021305e+04</td>\n",
       "      <td>NaN</td>\n",
       "      <td>NaN</td>\n",
       "      <td>NaN</td>\n",
       "      <td>NaN</td>\n",
       "      <td>NaN</td>\n",
       "      <td>NaN</td>\n",
       "      <td>0.412228</td>\n",
       "      <td>NaN</td>\n",
       "      <td>NaN</td>\n",
       "      <td>NaN</td>\n",
       "    </tr>\n",
       "    <tr>\n",
       "      <th>min</th>\n",
       "      <td>0.000000</td>\n",
       "      <td>NaN</td>\n",
       "      <td>0.000000</td>\n",
       "      <td>4.000000e+03</td>\n",
       "      <td>NaN</td>\n",
       "      <td>NaN</td>\n",
       "      <td>NaN</td>\n",
       "      <td>NaN</td>\n",
       "      <td>NaN</td>\n",
       "      <td>NaN</td>\n",
       "      <td>0.000000</td>\n",
       "      <td>NaN</td>\n",
       "      <td>NaN</td>\n",
       "      <td>NaN</td>\n",
       "    </tr>\n",
       "    <tr>\n",
       "      <th>25%</th>\n",
       "      <td>8359.250000</td>\n",
       "      <td>NaN</td>\n",
       "      <td>23.000000</td>\n",
       "      <td>3.880000e+04</td>\n",
       "      <td>NaN</td>\n",
       "      <td>NaN</td>\n",
       "      <td>NaN</td>\n",
       "      <td>NaN</td>\n",
       "      <td>NaN</td>\n",
       "      <td>NaN</td>\n",
       "      <td>0.000000</td>\n",
       "      <td>NaN</td>\n",
       "      <td>NaN</td>\n",
       "      <td>NaN</td>\n",
       "    </tr>\n",
       "    <tr>\n",
       "      <th>50%</th>\n",
       "      <td>16718.500000</td>\n",
       "      <td>NaN</td>\n",
       "      <td>26.000000</td>\n",
       "      <td>5.500000e+04</td>\n",
       "      <td>NaN</td>\n",
       "      <td>NaN</td>\n",
       "      <td>NaN</td>\n",
       "      <td>NaN</td>\n",
       "      <td>NaN</td>\n",
       "      <td>NaN</td>\n",
       "      <td>0.000000</td>\n",
       "      <td>NaN</td>\n",
       "      <td>NaN</td>\n",
       "      <td>NaN</td>\n",
       "    </tr>\n",
       "    <tr>\n",
       "      <th>75%</th>\n",
       "      <td>25077.750000</td>\n",
       "      <td>NaN</td>\n",
       "      <td>30.000000</td>\n",
       "      <td>8.000000e+04</td>\n",
       "      <td>NaN</td>\n",
       "      <td>NaN</td>\n",
       "      <td>NaN</td>\n",
       "      <td>NaN</td>\n",
       "      <td>NaN</td>\n",
       "      <td>NaN</td>\n",
       "      <td>0.000000</td>\n",
       "      <td>NaN</td>\n",
       "      <td>NaN</td>\n",
       "      <td>NaN</td>\n",
       "    </tr>\n",
       "    <tr>\n",
       "      <th>max</th>\n",
       "      <td>33437.000000</td>\n",
       "      <td>NaN</td>\n",
       "      <td>144.000000</td>\n",
       "      <td>6.000000e+06</td>\n",
       "      <td>NaN</td>\n",
       "      <td>NaN</td>\n",
       "      <td>NaN</td>\n",
       "      <td>NaN</td>\n",
       "      <td>NaN</td>\n",
       "      <td>NaN</td>\n",
       "      <td>1.000000</td>\n",
       "      <td>NaN</td>\n",
       "      <td>NaN</td>\n",
       "      <td>NaN</td>\n",
       "    </tr>\n",
       "  </tbody>\n",
       "</table>\n",
       "</div>"
      ],
      "text/plain": [
       "          Unnamed: 0  person_name    person_age  person_income  \\\n",
       "count   33438.000000           44  33438.000000   3.343800e+04   \n",
       "unique           NaN           44           NaN            NaN   \n",
       "top              NaN  Edgar Ramos           NaN            NaN   \n",
       "freq             NaN            1           NaN            NaN   \n",
       "mean    16718.500000          NaN     27.703989   6.734506e+04   \n",
       "std      9652.863487          NaN      6.412270   7.021305e+04   \n",
       "min         0.000000          NaN      0.000000   4.000000e+03   \n",
       "25%      8359.250000          NaN     23.000000   3.880000e+04   \n",
       "50%     16718.500000          NaN     26.000000   5.500000e+04   \n",
       "75%     25077.750000          NaN     30.000000   8.000000e+04   \n",
       "max     33437.000000          NaN    144.000000   6.000000e+06   \n",
       "\n",
       "       person_home_ownership person_emp_length loan_intent loan_grade  \\\n",
       "count                  33438             32522       33438      33438   \n",
       "unique                     5                37           7          8   \n",
       "top                     RENT               0.0   EDUCATION          A   \n",
       "freq                   16885              4209        6626      11057   \n",
       "mean                     NaN               NaN         NaN        NaN   \n",
       "std                      NaN               NaN         NaN        NaN   \n",
       "min                      NaN               NaN         NaN        NaN   \n",
       "25%                      NaN               NaN         NaN        NaN   \n",
       "50%                      NaN               NaN         NaN        NaN   \n",
       "75%                      NaN               NaN         NaN        NaN   \n",
       "max                      NaN               NaN         NaN        NaN   \n",
       "\n",
       "       loan_amnt loan_int_rate   loan_status loan_percent_income  \\\n",
       "count      33059         30251  33438.000000               33438   \n",
       "unique       735           349           NaN                  78   \n",
       "top      10000.0          7.51           NaN                 0.1   \n",
       "freq        2731           771           NaN                1573   \n",
       "mean         NaN           NaN      0.217029                 NaN   \n",
       "std          NaN           NaN      0.412228                 NaN   \n",
       "min          NaN           NaN      0.000000                 NaN   \n",
       "25%          NaN           NaN      0.000000                 NaN   \n",
       "50%          NaN           NaN      0.000000                 NaN   \n",
       "75%          NaN           NaN      0.000000                 NaN   \n",
       "max          NaN           NaN      1.000000                 NaN   \n",
       "\n",
       "       cb_person_default_on_file cb_person_cred_hist_length  \n",
       "count                      33438                      33438  \n",
       "unique                         2                         30  \n",
       "top                            N                          2  \n",
       "freq                       27558                       6120  \n",
       "mean                         NaN                        NaN  \n",
       "std                          NaN                        NaN  \n",
       "min                          NaN                        NaN  \n",
       "25%                          NaN                        NaN  \n",
       "50%                          NaN                        NaN  \n",
       "75%                          NaN                        NaN  \n",
       "max                          NaN                        NaN  "
      ]
     },
     "execution_count": 201,
     "metadata": {},
     "output_type": "execute_result"
    }
   ],
   "source": [
    "# visualizando algumas métricas com o describe()\n",
    "\n",
    "df.describe(include='all')"
   ]
  },
  {
   "cell_type": "code",
   "execution_count": 202,
   "metadata": {},
   "outputs": [
    {
     "name": "stdout",
     "output_type": "stream",
     "text": [
      "Número de colunas presentes no dataset 14. \n",
      "Número de linhas presentes no dataset 33438.\n"
     ]
    }
   ],
   "source": [
    "# Visualização do número de linhas e colunas\n",
    "\n",
    "n_columns = df.shape[1]\n",
    "n_rows    = df.shape[0]   \n",
    "\n",
    "print(f'Número de colunas presentes no dataset {n_columns}. \\n' + \n",
    "      f'Número de linhas presentes no dataset {n_rows}.')"
   ]
  },
  {
   "cell_type": "code",
   "execution_count": 203,
   "metadata": {},
   "outputs": [
    {
     "name": "stdout",
     "output_type": "stream",
     "text": [
      "0 — Unnamed: 0\n",
      "1 — person_name\n",
      "2 — person_age\n",
      "3 — person_income\n",
      "4 — person_home_ownership\n",
      "5 — person_emp_length\n",
      "6 — loan_intent\n",
      "7 — loan_grade\n",
      "8 — loan_amnt\n",
      "9 — loan_int_rate\n",
      "10 — loan_status\n",
      "11 — loan_percent_income\n",
      "12 — cb_person_default_on_file\n",
      "13 — cb_person_cred_hist_length\n"
     ]
    }
   ],
   "source": [
    "# Visualizando as colunas do dataset\n",
    "\n",
    "for i, col in enumerate(df.columns):\n",
    "    print(f'{i} — {col}')"
   ]
  },
  {
   "cell_type": "code",
   "execution_count": 204,
   "metadata": {},
   "outputs": [
    {
     "data": {
      "text/plain": [
       "Unnamed: 0                     int64\n",
       "person_name                   object\n",
       "person_age                     int64\n",
       "person_income                  int64\n",
       "person_home_ownership         object\n",
       "person_emp_length             object\n",
       "loan_intent                   object\n",
       "loan_grade                    object\n",
       "loan_amnt                     object\n",
       "loan_int_rate                 object\n",
       "loan_status                    int64\n",
       "loan_percent_income           object\n",
       "cb_person_default_on_file     object\n",
       "cb_person_cred_hist_length    object\n",
       "dtype: object"
      ]
     },
     "execution_count": 204,
     "metadata": {},
     "output_type": "execute_result"
    }
   ],
   "source": [
    "# Visualizando os tipos de dados presentes no dataset\n",
    "df.dtypes"
   ]
  },
  {
   "cell_type": "code",
   "execution_count": 205,
   "metadata": {},
   "outputs": [
    {
     "name": "stdout",
     "output_type": "stream",
     "text": [
      "Média da colunas númericas do dataset:\n",
      "Unnamed: 0       16718.500000\n",
      "person_age          27.703989\n",
      "person_income    67345.058646\n",
      "loan_status          0.217029\n",
      "dtype: float64 \n"
     ]
    }
   ],
   "source": [
    "# Visualizar algumas medidas de posição dos dados (média, mediana, moda)\n",
    "\n",
    "print(f'Média da colunas númericas do dataset:\\n{df.mean()} ')"
   ]
  },
  {
   "cell_type": "code",
   "execution_count": 206,
   "metadata": {},
   "outputs": [
    {
     "name": "stdout",
     "output_type": "stream",
     "text": [
      "Mediana da colunas númericas do dataset:\n",
      "Unnamed: 0       16718.5\n",
      "person_age          26.0\n",
      "person_income    55000.0\n",
      "loan_status          0.0\n",
      "dtype: float64 \n"
     ]
    }
   ],
   "source": [
    "print(f'Mediana da colunas númericas do dataset:\\n{df.median()} ')"
   ]
  },
  {
   "cell_type": "code",
   "execution_count": 207,
   "metadata": {},
   "outputs": [
    {
     "name": "stdout",
     "output_type": "stream",
     "text": [
      "0 — Unnamed: 0 tem moda —  0\n",
      "1 — person_name tem moda —  Alice Dias\n",
      "2 — person_age tem moda —  23\n",
      "3 — person_income tem moda —  60000\n",
      "4 — person_home_ownership tem moda —  RENT\n",
      "5 — person_emp_length tem moda —  0.0\n",
      "6 — loan_intent tem moda —  EDUCATION\n",
      "7 — loan_grade tem moda —  A\n",
      "8 — loan_amnt tem moda —  10000.0\n",
      "9 — loan_int_rate tem moda —  7.51\n",
      "10 — loan_status tem moda —  0\n",
      "11 — loan_percent_income tem moda —  0.1\n",
      "12 — cb_person_default_on_file tem moda —  N\n",
      "13 — cb_person_cred_hist_length tem moda —  2\n"
     ]
    }
   ],
   "source": [
    "for i, col in enumerate(df.columns):\n",
    "    mode = df[col].mode().iloc[0]\n",
    "    print(f'{i} — {col} tem moda — ', mode)"
   ]
  },
  {
   "cell_type": "code",
   "execution_count": 208,
   "metadata": {},
   "outputs": [
    {
     "data": {
      "text/plain": [
       "Unnamed: 0                        0\n",
       "person_name                   33394\n",
       "person_age                        0\n",
       "person_income                     0\n",
       "person_home_ownership             0\n",
       "person_emp_length               916\n",
       "loan_intent                       0\n",
       "loan_grade                        0\n",
       "loan_amnt                       379\n",
       "loan_int_rate                  3187\n",
       "loan_status                       0\n",
       "loan_percent_income               0\n",
       "cb_person_default_on_file         0\n",
       "cb_person_cred_hist_length        0\n",
       "dtype: int64"
      ]
     },
     "execution_count": 208,
     "metadata": {},
     "output_type": "execute_result"
    }
   ],
   "source": [
    "# Checando quantidade de dados faltantes\n",
    "\n",
    "df.isna().sum()"
   ]
  },
  {
   "cell_type": "code",
   "execution_count": 209,
   "metadata": {},
   "outputs": [
    {
     "data": {
      "text/plain": [
       "<AxesSubplot:>"
      ]
     },
     "execution_count": 209,
     "metadata": {},
     "output_type": "execute_result"
    },
    {
     "data": {
      "image/png": "[encoded data removed]",
      "text/plain": [
       "<Figure size 1800x720 with 3 Axes>"
      ]
     },
     "metadata": {
      "needs_background": "light"
     },
     "output_type": "display_data"
    }
   ],
   "source": [
    "# Gerando uma visualização de dados não faltantes com MissingNO\n",
    "\n",
    "msno.bar(df)"
   ]
  },
  {
   "cell_type": "code",
   "execution_count": 210,
   "metadata": {},
   "outputs": [
    {
     "data": {
      "text/plain": [
       "<AxesSubplot:>"
      ]
     },
     "execution_count": 210,
     "metadata": {},
     "output_type": "execute_result"
    },
    {
     "data": {
      "image/png": "[encoded data removed]",
      "text/plain": [
       "<Figure size 1800x720 with 2 Axes>"
      ]
     },
     "metadata": {
      "needs_background": "light"
     },
     "output_type": "display_data"
    }
   ],
   "source": [
    "msno.matrix(df)"
   ]
  },
  {
   "cell_type": "markdown",
   "metadata": {},
   "source": [
    "* <cite>Com a biblioteca missingNo podemos visualizar os dados faltantes dentro do nosso dataframe, a altura da barra indica o quão completa está cada uma das colunas do dataset.</cite> \n",
    "    Podemos entender um pouco melhor em um artigo escrito por Andy McDonald no towardsdatascience, [aqui!](https://towardsdatascience.com/using-the-missingno-python-library-to-identify-and-visualise-missing-data-prior-to-machine-learning-34c8c5b5f009 \"Artigo MissingNO\")\n",
    "    "
   ]
  },
  {
   "cell_type": "markdown",
   "metadata": {
    "id": "uCNtF7L_nlBi"
   },
   "source": [
    "<font color=pink|black|black>*###SUA RESPOSTA TERMINA AQUI###*</font>"
   ]
  },
  {
   "cell_type": "markdown",
   "metadata": {
    "id": "zuClxxcEnlBj"
   },
   "source": [
    "# 3. Limpeza de Dados e Visualização Básica de Gráficos\n",
    "Após entender do que o seu Data Set se trata, chegou a hora de realizar a limpeza de dados. A limpeza de dados consiste em corrigir aquelas entradas que não conversam com o resto dos dados. Para isso, é muito comum que se façam vários gráficos e tabelas pois quanto mais observamos os dados, mais erros encontramos.\n",
    "Dessa forma, gostariamos que você apontasse esses erros e corrigisse-os.\n",
    "Como nossos membros Jr. acabaram cometendo alguns desses erros na hora da construção do case, iremos lhe guiar na ordem de tratamento de alguns erros específicos:\n",
    "\n",
    "- 1. Após sua análise inicial você notou uma coluna que foi duplicada, comece excluindo-a do data frame e mostre a primeira linha do df para confirmar que deu certo\n",
    "- 2. Encontre quantas linhas estão duplicadas e nos mostre apenas essas linhas, depois\n",
    "    - Exclua todas as linhas duplicadas e nos mostre que no df atualizado essa quantidade foi reduzida\n",
    "- 3. Sem querer quererendo, um dataframe com os membros da Dev que são os credores, foi misturada de forma aleatória aos dados \n",
    "    - Encontre todos os membros utilizando o padrão que quiser e separe esses membros em outro dataframe chamado **\"devers\"**\n",
    "    - Perceba que na verdade o campo de idade (\"person_age\") na verdade se refere a geração do membro na entidade, então ordene os membros usando 2 parâmetros, primeiro as gerações mais antigas e depois a ordem alfabética do nome\n",
    "    - Por fim salve os devers em um arquivo .csv à parte (Após isso não esqueça de excluir esses membros do df original para seguir com a análise\n",
    "- 4. Fomos informados que segundo a LGPD (Lei Geral de Proteção de Dados) o nome das pessoas deve ser mantido em sigilo, mas como você é curioso decide aproveitar que alguns nome estão no df e verifica:\n",
    "    - O nome da pessoa com a maior renda\n",
    "    - O nome da pessoa com a menor renda\n",
    "    - Após isso exclua completamente a coluna de nomes do df\n",
    "\n",
    "\n",
    "*Agora que erros pontuais foram concluídos aqui vão algumas dicas para reparar o restante*\n",
    "\n",
    "- Pesquise por maneiras de tratar dados faltantes\n",
    "    - Dica 2: Os valores da coluna \"loan_amnt\" são um produto de outras 2 colunas mas arredondado\n",
    "- Existem valores que não fazem nenhum sentido ou são outliers? Como limpá-los?\n",
    "- Bons gráficos para ver a distribuição de dados quantitativos: boxplot e histograma.\n",
    "- Bons gráficos para ver a distribuição de dados qualitativos: countplot e gráfico de barras.\n",
    "\n",
    "<font color=pink|black|black>*###SUA RESPOSTA COMECA AQUI###*</font>"
   ]
  },
  {
   "cell_type": "code",
   "execution_count": 211,
   "metadata": {
    "id": "jr2JNFtAnlBj"
   },
   "outputs": [],
   "source": [
    "# excluindo coluna duplicada\n",
    "\n",
    "df.drop(\"Unnamed: 0\", axis=1, inplace=True)"
   ]
  },
  {
   "cell_type": "code",
   "execution_count": 212,
   "metadata": {},
   "outputs": [
    {
     "name": "stdout",
     "output_type": "stream",
     "text": [
      "O número de linhas duplicadas no dataset: 980\n"
     ]
    }
   ],
   "source": [
    "# Visualizando quantas linhas estão duplicadas no dataset\n",
    "\n",
    "n_duplicadas = df.duplicated(subset=[\n",
    " \"person_name\",\n",
    " \"person_age\",\n",
    " \"person_income\",\n",
    " \"person_home_ownership\",\n",
    " \"person_emp_length\",\n",
    " \"loan_intent\",\n",
    " \"loan_grade\",\n",
    " \"loan_amnt\",\n",
    " \"loan_int_rate\",\n",
    " \"loan_status\",\n",
    " \"loan_percent_income\",\n",
    " \"cb_person_default_on_file\",\n",
    " \"cb_person_cred_hist_length\"]).sum()\n",
    "\n",
    "print(f'O número de linhas duplicadas no dataset: {n_duplicadas}')"
   ]
  },
  {
   "cell_type": "code",
   "execution_count": 213,
   "metadata": {},
   "outputs": [
    {
     "data": {
      "text/html": [
       "<div>\n",
       "<style scoped>\n",
       "    .dataframe tbody tr th:only-of-type {\n",
       "        vertical-align: middle;\n",
       "    }\n",
       "\n",
       "    .dataframe tbody tr th {\n",
       "        vertical-align: top;\n",
       "    }\n",
       "\n",
       "    .dataframe thead th {\n",
       "        text-align: right;\n",
       "    }\n",
       "</style>\n",
       "<table border=\"1\" class=\"dataframe\">\n",
       "  <thead>\n",
       "    <tr style=\"text-align: right;\">\n",
       "      <th></th>\n",
       "      <th>person_name</th>\n",
       "      <th>person_age</th>\n",
       "      <th>person_income</th>\n",
       "      <th>person_home_ownership</th>\n",
       "      <th>person_emp_length</th>\n",
       "      <th>loan_intent</th>\n",
       "      <th>loan_grade</th>\n",
       "      <th>loan_amnt</th>\n",
       "      <th>loan_int_rate</th>\n",
       "      <th>loan_status</th>\n",
       "      <th>loan_percent_income</th>\n",
       "      <th>cb_person_default_on_file</th>\n",
       "      <th>cb_person_cred_hist_length</th>\n",
       "    </tr>\n",
       "  </thead>\n",
       "  <tbody>\n",
       "    <tr>\n",
       "      <th>0</th>\n",
       "      <td>NaN</td>\n",
       "      <td>23</td>\n",
       "      <td>39292</td>\n",
       "      <td>MORTGAGE</td>\n",
       "      <td>3.0</td>\n",
       "      <td>PERSONAL</td>\n",
       "      <td>A</td>\n",
       "      <td>3250.0</td>\n",
       "      <td>NaN</td>\n",
       "      <td>1</td>\n",
       "      <td>0.08</td>\n",
       "      <td>N</td>\n",
       "      <td>4</td>\n",
       "    </tr>\n",
       "    <tr>\n",
       "      <th>1</th>\n",
       "      <td>NaN</td>\n",
       "      <td>32</td>\n",
       "      <td>45000</td>\n",
       "      <td>MORTGAGE</td>\n",
       "      <td>NaN</td>\n",
       "      <td>PERSONAL</td>\n",
       "      <td>B</td>\n",
       "      <td>7200.0</td>\n",
       "      <td>12.69</td>\n",
       "      <td>0</td>\n",
       "      <td>0.16</td>\n",
       "      <td>N</td>\n",
       "      <td>5</td>\n",
       "    </tr>\n",
       "    <tr>\n",
       "      <th>2</th>\n",
       "      <td>NaN</td>\n",
       "      <td>34</td>\n",
       "      <td>27000</td>\n",
       "      <td>RENT</td>\n",
       "      <td>3.0</td>\n",
       "      <td>VENTURE</td>\n",
       "      <td>B</td>\n",
       "      <td>2525.0</td>\n",
       "      <td>12.21</td>\n",
       "      <td>0</td>\n",
       "      <td>0.09</td>\n",
       "      <td>N</td>\n",
       "      <td>7</td>\n",
       "    </tr>\n",
       "    <tr>\n",
       "      <th>3</th>\n",
       "      <td>NaN</td>\n",
       "      <td>31</td>\n",
       "      <td>82524</td>\n",
       "      <td>MORTGAGE</td>\n",
       "      <td>4.0</td>\n",
       "      <td>VENTURE</td>\n",
       "      <td>A</td>\n",
       "      <td>12000.0</td>\n",
       "      <td>6.62</td>\n",
       "      <td>0</td>\n",
       "      <td>0.15</td>\n",
       "      <td>N</td>\n",
       "      <td>8</td>\n",
       "    </tr>\n",
       "    <tr>\n",
       "      <th>4</th>\n",
       "      <td>NaN</td>\n",
       "      <td>23</td>\n",
       "      <td>79992</td>\n",
       "      <td>MORTGAGE</td>\n",
       "      <td>7.0</td>\n",
       "      <td>DEBTCONSOLIDATION</td>\n",
       "      <td>B</td>\n",
       "      <td>6000.0</td>\n",
       "      <td>NaN</td>\n",
       "      <td>0</td>\n",
       "      <td>0.08</td>\n",
       "      <td>N</td>\n",
       "      <td>3</td>\n",
       "    </tr>\n",
       "  </tbody>\n",
       "</table>\n",
       "</div>"
      ],
      "text/plain": [
       "  person_name  person_age  person_income person_home_ownership  \\\n",
       "0         NaN          23          39292              MORTGAGE   \n",
       "1         NaN          32          45000              MORTGAGE   \n",
       "2         NaN          34          27000                  RENT   \n",
       "3         NaN          31          82524              MORTGAGE   \n",
       "4         NaN          23          79992              MORTGAGE   \n",
       "\n",
       "  person_emp_length        loan_intent loan_grade loan_amnt loan_int_rate  \\\n",
       "0               3.0           PERSONAL          A    3250.0           NaN   \n",
       "1               NaN           PERSONAL          B    7200.0         12.69   \n",
       "2               3.0            VENTURE          B    2525.0         12.21   \n",
       "3               4.0            VENTURE          A   12000.0          6.62   \n",
       "4               7.0  DEBTCONSOLIDATION          B    6000.0           NaN   \n",
       "\n",
       "   loan_status loan_percent_income cb_person_default_on_file  \\\n",
       "0            1                0.08                         N   \n",
       "1            0                0.16                         N   \n",
       "2            0                0.09                         N   \n",
       "3            0                0.15                         N   \n",
       "4            0                0.08                         N   \n",
       "\n",
       "  cb_person_cred_hist_length  \n",
       "0                          4  \n",
       "1                          5  \n",
       "2                          7  \n",
       "3                          8  \n",
       "4                          3  "
      ]
     },
     "execution_count": 213,
     "metadata": {},
     "output_type": "execute_result"
    }
   ],
   "source": [
    "df.head()"
   ]
  },
  {
   "cell_type": "code",
   "execution_count": 214,
   "metadata": {},
   "outputs": [
    {
     "data": {
      "text/plain": [
       "Edgar Ramos                         1\n",
       "Tomás Miguel Bailez Viana           1\n",
       "Thomas Moriya Yasuoka Souza Dick    1\n",
       "Guilherme Trotta                    1\n",
       "Tiago Sobreiro                      1\n",
       "André Theodoro de Matos             1\n",
       "Júlia Sousa Silva                   1\n",
       "Luana Pastana Ferrari               1\n",
       "Guilherme Davi                      1\n",
       "Julio Manuel                        1\n",
       "Enrico Ruggieri                     1\n",
       "Isabela Cozar Donadelli             1\n",
       "Rafael Abraão Sato                  1\n",
       "Douglas da Silva Cardoso            1\n",
       "Todoroki Shoto                      1\n",
       "Jorge Daniel Aucca Chávez           1\n",
       "Emilly de Meneses Santos            1\n",
       "Miguel Sallum                       1\n",
       "Edgard Lopes                        1\n",
       "Henrique Cervantes                  1\n",
       "Julia Puppi                         1\n",
       "Ana Clara Duca Trujillo             1\n",
       "Felipe de Alcantara Manzi           1\n",
       "Eduardo Henrique Batistella         1\n",
       "Felipe Bailez                       1\n",
       "Diego Lotterman                     1\n",
       "Alice Tinôco Saraiva                1\n",
       "Guilherme Theo dos Reis Figueira    1\n",
       "Nícolas Zanoni                      1\n",
       "Lucas Henrique de Oliveira          1\n",
       "Rafael Magalhães Pereira            1\n",
       "Alice Dias                          1\n",
       "Gustavo Yuji                        1\n",
       "Thaís Cordeiro Teixeira             1\n",
       "Lucas K. Matsuda                    1\n",
       "João Victor A. Evangelista          1\n",
       "Wallery Gomes                       1\n",
       "Eduardo Amorim Vilela de Salis      1\n",
       "Laís Collen                         1\n",
       "Mariana Moraes Lopes                1\n",
       "Kevyn Andrade Marcelino             1\n",
       "Geovanna Ferreira                   1\n",
       "Zabuza Momochi                      1\n",
       "Gustavo Toledo Barros               1\n",
       "Name: person_name, dtype: int64"
      ]
     },
     "execution_count": 214,
     "metadata": {},
     "output_type": "execute_result"
    }
   ],
   "source": [
    "# encontrando o nome dos devers\n",
    "\n",
    "df['person_name'].value_counts()"
   ]
  },
  {
   "cell_type": "code",
   "execution_count": 215,
   "metadata": {},
   "outputs": [
    {
     "data": {
      "text/html": [
       "<div>\n",
       "<style scoped>\n",
       "    .dataframe tbody tr th:only-of-type {\n",
       "        vertical-align: middle;\n",
       "    }\n",
       "\n",
       "    .dataframe tbody tr th {\n",
       "        vertical-align: top;\n",
       "    }\n",
       "\n",
       "    .dataframe thead th {\n",
       "        text-align: right;\n",
       "    }\n",
       "</style>\n",
       "<table border=\"1\" class=\"dataframe\">\n",
       "  <thead>\n",
       "    <tr style=\"text-align: right;\">\n",
       "      <th></th>\n",
       "      <th>person_name</th>\n",
       "      <th>person_age</th>\n",
       "      <th>person_income</th>\n",
       "      <th>person_home_ownership</th>\n",
       "      <th>person_emp_length</th>\n",
       "      <th>loan_intent</th>\n",
       "      <th>loan_grade</th>\n",
       "      <th>loan_amnt</th>\n",
       "      <th>loan_int_rate</th>\n",
       "      <th>loan_status</th>\n",
       "      <th>loan_percent_income</th>\n",
       "      <th>cb_person_default_on_file</th>\n",
       "      <th>cb_person_cred_hist_length</th>\n",
       "    </tr>\n",
       "  </thead>\n",
       "  <tbody>\n",
       "    <tr>\n",
       "      <th>1143</th>\n",
       "      <td>Edgar Ramos</td>\n",
       "      <td>4</td>\n",
       "      <td>999999</td>\n",
       "      <td>x</td>\n",
       "      <td>x</td>\n",
       "      <td>CREDITOR</td>\n",
       "      <td>S</td>\n",
       "      <td>x</td>\n",
       "      <td>x</td>\n",
       "      <td>0</td>\n",
       "      <td>x</td>\n",
       "      <td>N</td>\n",
       "      <td>x</td>\n",
       "    </tr>\n",
       "    <tr>\n",
       "      <th>2455</th>\n",
       "      <td>Tomás Miguel Bailez Viana</td>\n",
       "      <td>3</td>\n",
       "      <td>999999</td>\n",
       "      <td>x</td>\n",
       "      <td>x</td>\n",
       "      <td>CREDITOR</td>\n",
       "      <td>S</td>\n",
       "      <td>x</td>\n",
       "      <td>x</td>\n",
       "      <td>0</td>\n",
       "      <td>x</td>\n",
       "      <td>N</td>\n",
       "      <td>x</td>\n",
       "    </tr>\n",
       "    <tr>\n",
       "      <th>2726</th>\n",
       "      <td>Diego Lotterman</td>\n",
       "      <td>0</td>\n",
       "      <td>999999</td>\n",
       "      <td>x</td>\n",
       "      <td>x</td>\n",
       "      <td>CREDITOR</td>\n",
       "      <td>S</td>\n",
       "      <td>x</td>\n",
       "      <td>x</td>\n",
       "      <td>0</td>\n",
       "      <td>x</td>\n",
       "      <td>N</td>\n",
       "      <td>x</td>\n",
       "    </tr>\n",
       "    <tr>\n",
       "      <th>2933</th>\n",
       "      <td>Alice Tinôco Saraiva</td>\n",
       "      <td>3</td>\n",
       "      <td>999999</td>\n",
       "      <td>x</td>\n",
       "      <td>x</td>\n",
       "      <td>CREDITOR</td>\n",
       "      <td>S</td>\n",
       "      <td>x</td>\n",
       "      <td>x</td>\n",
       "      <td>0</td>\n",
       "      <td>x</td>\n",
       "      <td>N</td>\n",
       "      <td>x</td>\n",
       "    </tr>\n",
       "    <tr>\n",
       "      <th>4334</th>\n",
       "      <td>Guilherme Theo dos Reis Figueira</td>\n",
       "      <td>1</td>\n",
       "      <td>999999</td>\n",
       "      <td>x</td>\n",
       "      <td>x</td>\n",
       "      <td>CREDITOR</td>\n",
       "      <td>S</td>\n",
       "      <td>x</td>\n",
       "      <td>x</td>\n",
       "      <td>0</td>\n",
       "      <td>x</td>\n",
       "      <td>N</td>\n",
       "      <td>x</td>\n",
       "    </tr>\n",
       "  </tbody>\n",
       "</table>\n",
       "</div>"
      ],
      "text/plain": [
       "                           person_name  person_age  person_income  \\\n",
       "1143                       Edgar Ramos           4         999999   \n",
       "2455         Tomás Miguel Bailez Viana           3         999999   \n",
       "2726                   Diego Lotterman           0         999999   \n",
       "2933              Alice Tinôco Saraiva           3         999999   \n",
       "4334  Guilherme Theo dos Reis Figueira           1         999999   \n",
       "\n",
       "     person_home_ownership person_emp_length loan_intent loan_grade loan_amnt  \\\n",
       "1143                     x                 x    CREDITOR          S         x   \n",
       "2455                     x                 x    CREDITOR          S         x   \n",
       "2726                     x                 x    CREDITOR          S         x   \n",
       "2933                     x                 x    CREDITOR          S         x   \n",
       "4334                     x                 x    CREDITOR          S         x   \n",
       "\n",
       "     loan_int_rate  loan_status loan_percent_income cb_person_default_on_file  \\\n",
       "1143             x            0                   x                         N   \n",
       "2455             x            0                   x                         N   \n",
       "2726             x            0                   x                         N   \n",
       "2933             x            0                   x                         N   \n",
       "4334             x            0                   x                         N   \n",
       "\n",
       "     cb_person_cred_hist_length  \n",
       "1143                          x  \n",
       "2455                          x  \n",
       "2726                          x  \n",
       "2933                          x  \n",
       "4334                          x  "
      ]
     },
     "execution_count": 215,
     "metadata": {},
     "output_type": "execute_result"
    }
   ],
   "source": [
    "# criando o dataset 'devers' a partir do df original\n",
    "\n",
    "devers = df.copy()\n",
    "devers = devers.dropna(subset =['person_name'])\n",
    "devers.head()"
   ]
  },
  {
   "cell_type": "code",
   "execution_count": 216,
   "metadata": {},
   "outputs": [
    {
     "data": {
      "text/html": [
       "<div>\n",
       "<style scoped>\n",
       "    .dataframe tbody tr th:only-of-type {\n",
       "        vertical-align: middle;\n",
       "    }\n",
       "\n",
       "    .dataframe tbody tr th {\n",
       "        vertical-align: top;\n",
       "    }\n",
       "\n",
       "    .dataframe thead th {\n",
       "        text-align: right;\n",
       "    }\n",
       "</style>\n",
       "<table border=\"1\" class=\"dataframe\">\n",
       "  <thead>\n",
       "    <tr style=\"text-align: right;\">\n",
       "      <th></th>\n",
       "      <th>person_name</th>\n",
       "      <th>person_age</th>\n",
       "    </tr>\n",
       "  </thead>\n",
       "  <tbody>\n",
       "    <tr>\n",
       "      <th>12194</th>\n",
       "      <td>Zabuza Momochi</td>\n",
       "      <td>144</td>\n",
       "    </tr>\n",
       "    <tr>\n",
       "      <th>25570</th>\n",
       "      <td>Todoroki Shoto</td>\n",
       "      <td>41</td>\n",
       "    </tr>\n",
       "    <tr>\n",
       "      <th>1143</th>\n",
       "      <td>Edgar Ramos</td>\n",
       "      <td>4</td>\n",
       "    </tr>\n",
       "    <tr>\n",
       "      <th>11385</th>\n",
       "      <td>Geovanna Ferreira</td>\n",
       "      <td>4</td>\n",
       "    </tr>\n",
       "    <tr>\n",
       "      <th>17057</th>\n",
       "      <td>Guilherme Trotta</td>\n",
       "      <td>4</td>\n",
       "    </tr>\n",
       "    <tr>\n",
       "      <th>7030</th>\n",
       "      <td>Gustavo Yuji</td>\n",
       "      <td>4</td>\n",
       "    </tr>\n",
       "    <tr>\n",
       "      <th>19907</th>\n",
       "      <td>Julio Manuel</td>\n",
       "      <td>4</td>\n",
       "    </tr>\n",
       "    <tr>\n",
       "      <th>8150</th>\n",
       "      <td>Wallery Gomes</td>\n",
       "      <td>4</td>\n",
       "    </tr>\n",
       "    <tr>\n",
       "      <th>2933</th>\n",
       "      <td>Alice Tinôco Saraiva</td>\n",
       "      <td>3</td>\n",
       "    </tr>\n",
       "    <tr>\n",
       "      <th>13910</th>\n",
       "      <td>Ana Clara Duca Trujillo</td>\n",
       "      <td>3</td>\n",
       "    </tr>\n",
       "    <tr>\n",
       "      <th>19194</th>\n",
       "      <td>André Theodoro de Matos</td>\n",
       "      <td>3</td>\n",
       "    </tr>\n",
       "    <tr>\n",
       "      <th>12814</th>\n",
       "      <td>Eduardo Henrique Batistella</td>\n",
       "      <td>3</td>\n",
       "    </tr>\n",
       "    <tr>\n",
       "      <th>28111</th>\n",
       "      <td>Emilly de Meneses Santos</td>\n",
       "      <td>3</td>\n",
       "    </tr>\n",
       "    <tr>\n",
       "      <th>26004</th>\n",
       "      <td>Jorge Daniel Aucca Chávez</td>\n",
       "      <td>3</td>\n",
       "    </tr>\n",
       "    <tr>\n",
       "      <th>10397</th>\n",
       "      <td>Kevyn Andrade Marcelino</td>\n",
       "      <td>3</td>\n",
       "    </tr>\n",
       "    <tr>\n",
       "      <th>19282</th>\n",
       "      <td>Luana Pastana Ferrari</td>\n",
       "      <td>3</td>\n",
       "    </tr>\n",
       "    <tr>\n",
       "      <th>5353</th>\n",
       "      <td>Lucas Henrique de Oliveira</td>\n",
       "      <td>3</td>\n",
       "    </tr>\n",
       "    <tr>\n",
       "      <th>9632</th>\n",
       "      <td>Mariana Moraes Lopes</td>\n",
       "      <td>3</td>\n",
       "    </tr>\n",
       "    <tr>\n",
       "      <th>24366</th>\n",
       "      <td>Rafael Abraão Sato</td>\n",
       "      <td>3</td>\n",
       "    </tr>\n",
       "    <tr>\n",
       "      <th>6142</th>\n",
       "      <td>Rafael Magalhães Pereira</td>\n",
       "      <td>3</td>\n",
       "    </tr>\n",
       "    <tr>\n",
       "      <th>7647</th>\n",
       "      <td>Thaís Cordeiro Teixeira</td>\n",
       "      <td>3</td>\n",
       "    </tr>\n",
       "    <tr>\n",
       "      <th>2455</th>\n",
       "      <td>Tomás Miguel Bailez Viana</td>\n",
       "      <td>3</td>\n",
       "    </tr>\n",
       "    <tr>\n",
       "      <th>6623</th>\n",
       "      <td>Alice Dias</td>\n",
       "      <td>2</td>\n",
       "    </tr>\n",
       "    <tr>\n",
       "      <th>24655</th>\n",
       "      <td>Douglas da Silva Cardoso</td>\n",
       "      <td>2</td>\n",
       "    </tr>\n",
       "    <tr>\n",
       "      <th>29668</th>\n",
       "      <td>Edgard Lopes</td>\n",
       "      <td>2</td>\n",
       "    </tr>\n",
       "    <tr>\n",
       "      <th>9117</th>\n",
       "      <td>Eduardo Amorim Vilela de Salis</td>\n",
       "      <td>2</td>\n",
       "    </tr>\n",
       "    <tr>\n",
       "      <th>20625</th>\n",
       "      <td>Enrico Ruggieri</td>\n",
       "      <td>2</td>\n",
       "    </tr>\n",
       "    <tr>\n",
       "      <th>19534</th>\n",
       "      <td>Guilherme Davi</td>\n",
       "      <td>2</td>\n",
       "    </tr>\n",
       "    <tr>\n",
       "      <th>32184</th>\n",
       "      <td>Gustavo Toledo Barros</td>\n",
       "      <td>2</td>\n",
       "    </tr>\n",
       "    <tr>\n",
       "      <th>29742</th>\n",
       "      <td>Henrique Cervantes</td>\n",
       "      <td>2</td>\n",
       "    </tr>\n",
       "    <tr>\n",
       "      <th>30499</th>\n",
       "      <td>Julia Puppi</td>\n",
       "      <td>2</td>\n",
       "    </tr>\n",
       "    <tr>\n",
       "      <th>19247</th>\n",
       "      <td>Júlia Sousa Silva</td>\n",
       "      <td>2</td>\n",
       "    </tr>\n",
       "    <tr>\n",
       "      <th>9352</th>\n",
       "      <td>Laís Collen</td>\n",
       "      <td>2</td>\n",
       "    </tr>\n",
       "    <tr>\n",
       "      <th>12743</th>\n",
       "      <td>Lucas K. Matsuda</td>\n",
       "      <td>2</td>\n",
       "    </tr>\n",
       "    <tr>\n",
       "      <th>13916</th>\n",
       "      <td>Thomas Moriya Yasuoka Souza Dick</td>\n",
       "      <td>2</td>\n",
       "    </tr>\n",
       "    <tr>\n",
       "      <th>4334</th>\n",
       "      <td>Guilherme Theo dos Reis Figueira</td>\n",
       "      <td>1</td>\n",
       "    </tr>\n",
       "    <tr>\n",
       "      <th>22426</th>\n",
       "      <td>Isabela Cozar Donadelli</td>\n",
       "      <td>1</td>\n",
       "    </tr>\n",
       "    <tr>\n",
       "      <th>7675</th>\n",
       "      <td>João Victor A. Evangelista</td>\n",
       "      <td>1</td>\n",
       "    </tr>\n",
       "    <tr>\n",
       "      <th>2726</th>\n",
       "      <td>Diego Lotterman</td>\n",
       "      <td>0</td>\n",
       "    </tr>\n",
       "    <tr>\n",
       "      <th>7377</th>\n",
       "      <td>Felipe Bailez</td>\n",
       "      <td>0</td>\n",
       "    </tr>\n",
       "    <tr>\n",
       "      <th>13367</th>\n",
       "      <td>Felipe de Alcantara Manzi</td>\n",
       "      <td>0</td>\n",
       "    </tr>\n",
       "    <tr>\n",
       "      <th>29484</th>\n",
       "      <td>Miguel Sallum</td>\n",
       "      <td>0</td>\n",
       "    </tr>\n",
       "    <tr>\n",
       "      <th>4839</th>\n",
       "      <td>Nícolas Zanoni</td>\n",
       "      <td>0</td>\n",
       "    </tr>\n",
       "    <tr>\n",
       "      <th>17173</th>\n",
       "      <td>Tiago Sobreiro</td>\n",
       "      <td>0</td>\n",
       "    </tr>\n",
       "  </tbody>\n",
       "</table>\n",
       "</div>"
      ],
      "text/plain": [
       "                            person_name  person_age\n",
       "12194                    Zabuza Momochi         144\n",
       "25570                    Todoroki Shoto          41\n",
       "1143                        Edgar Ramos           4\n",
       "11385                 Geovanna Ferreira           4\n",
       "17057                  Guilherme Trotta           4\n",
       "7030                       Gustavo Yuji           4\n",
       "19907                      Julio Manuel           4\n",
       "8150                      Wallery Gomes           4\n",
       "2933               Alice Tinôco Saraiva           3\n",
       "13910           Ana Clara Duca Trujillo           3\n",
       "19194           André Theodoro de Matos           3\n",
       "12814       Eduardo Henrique Batistella           3\n",
       "28111          Emilly de Meneses Santos           3\n",
       "26004         Jorge Daniel Aucca Chávez           3\n",
       "10397           Kevyn Andrade Marcelino           3\n",
       "19282             Luana Pastana Ferrari           3\n",
       "5353         Lucas Henrique de Oliveira           3\n",
       "9632               Mariana Moraes Lopes           3\n",
       "24366                Rafael Abraão Sato           3\n",
       "6142           Rafael Magalhães Pereira           3\n",
       "7647            Thaís Cordeiro Teixeira           3\n",
       "2455          Tomás Miguel Bailez Viana           3\n",
       "6623                         Alice Dias           2\n",
       "24655          Douglas da Silva Cardoso           2\n",
       "29668                      Edgard Lopes           2\n",
       "9117     Eduardo Amorim Vilela de Salis           2\n",
       "20625                   Enrico Ruggieri           2\n",
       "19534                    Guilherme Davi           2\n",
       "32184             Gustavo Toledo Barros           2\n",
       "29742                Henrique Cervantes           2\n",
       "30499                       Julia Puppi           2\n",
       "19247                 Júlia Sousa Silva           2\n",
       "9352                        Laís Collen           2\n",
       "12743                  Lucas K. Matsuda           2\n",
       "13916  Thomas Moriya Yasuoka Souza Dick           2\n",
       "4334   Guilherme Theo dos Reis Figueira           1\n",
       "22426           Isabela Cozar Donadelli           1\n",
       "7675         João Victor A. Evangelista           1\n",
       "2726                    Diego Lotterman           0\n",
       "7377                      Felipe Bailez           0\n",
       "13367         Felipe de Alcantara Manzi           0\n",
       "29484                     Miguel Sallum           0\n",
       "4839                     Nícolas Zanoni           0\n",
       "17173                    Tiago Sobreiro           0"
      ]
     },
     "execution_count": 216,
     "metadata": {},
     "output_type": "execute_result"
    }
   ],
   "source": [
    "# ordenando os dados - tempo de casa e ordem alfabética\n",
    "\n",
    "devers = devers.sort_values(['person_age', 'person_name'], ascending = [False, True])\n",
    "devers[[\"person_name\", \"person_age\"]]"
   ]
  },
  {
   "cell_type": "code",
   "execution_count": 217,
   "metadata": {},
   "outputs": [],
   "source": [
    "# exportando o dataframe devers para um csv\n",
    "\n",
    "devers.to_csv('devers.csv')"
   ]
  },
  {
   "cell_type": "code",
   "execution_count": 218,
   "metadata": {},
   "outputs": [],
   "source": [
    "# retirando as linhas do dataframe devers\n",
    "\n",
    "df = df.loc[df.index.difference(devers.index)]"
   ]
  },
  {
   "cell_type": "code",
   "execution_count": 219,
   "metadata": {},
   "outputs": [
    {
     "data": {
      "text/plain": [
       "(33394, 13)"
      ]
     },
     "execution_count": 219,
     "metadata": {},
     "output_type": "execute_result"
    }
   ],
   "source": [
    "# checando se foram removidas com sucesso\n",
    "\n",
    "df.shape"
   ]
  },
  {
   "cell_type": "code",
   "execution_count": 220,
   "metadata": {},
   "outputs": [
    {
     "data": {
      "text/plain": [
       "<AxesSubplot:>"
      ]
     },
     "execution_count": 220,
     "metadata": {},
     "output_type": "execute_result"
    },
    {
     "data": {
      "image/png": "[encoded data removed]",
      "text/plain": [
       "<Figure size 1800x720 with 3 Axes>"
      ]
     },
     "metadata": {
      "needs_background": "light"
     },
     "output_type": "display_data"
    }
   ],
   "source": [
    "# confirmando visualmente se os dados foram removidos com sucesso.\n",
    "\n",
    "msno.bar(df)"
   ]
  },
  {
   "cell_type": "code",
   "execution_count": 221,
   "metadata": {},
   "outputs": [],
   "source": [
    "# dropando a coluna person_names do dataset, como é uma coluna sem dados, não impactará em nada na analise\n",
    "\n",
    "df.drop(\"person_name\", axis=1, inplace=True)"
   ]
  },
  {
   "cell_type": "code",
   "execution_count": 222,
   "metadata": {},
   "outputs": [
    {
     "data": {
      "text/html": [
       "<div>\n",
       "<style scoped>\n",
       "    .dataframe tbody tr th:only-of-type {\n",
       "        vertical-align: middle;\n",
       "    }\n",
       "\n",
       "    .dataframe tbody tr th {\n",
       "        vertical-align: top;\n",
       "    }\n",
       "\n",
       "    .dataframe thead th {\n",
       "        text-align: right;\n",
       "    }\n",
       "</style>\n",
       "<table border=\"1\" class=\"dataframe\">\n",
       "  <thead>\n",
       "    <tr style=\"text-align: right;\">\n",
       "      <th></th>\n",
       "      <th>person_age</th>\n",
       "      <th>person_income</th>\n",
       "      <th>person_home_ownership</th>\n",
       "      <th>person_emp_length</th>\n",
       "      <th>loan_intent</th>\n",
       "      <th>loan_grade</th>\n",
       "      <th>loan_amnt</th>\n",
       "      <th>loan_int_rate</th>\n",
       "      <th>loan_status</th>\n",
       "      <th>loan_percent_income</th>\n",
       "      <th>cb_person_default_on_file</th>\n",
       "      <th>cb_person_cred_hist_length</th>\n",
       "    </tr>\n",
       "  </thead>\n",
       "  <tbody>\n",
       "    <tr>\n",
       "      <th>0</th>\n",
       "      <td>23</td>\n",
       "      <td>39292</td>\n",
       "      <td>MORTGAGE</td>\n",
       "      <td>3.0</td>\n",
       "      <td>PERSONAL</td>\n",
       "      <td>A</td>\n",
       "      <td>3250.0</td>\n",
       "      <td>NaN</td>\n",
       "      <td>1</td>\n",
       "      <td>0.08</td>\n",
       "      <td>N</td>\n",
       "      <td>4</td>\n",
       "    </tr>\n",
       "    <tr>\n",
       "      <th>1</th>\n",
       "      <td>32</td>\n",
       "      <td>45000</td>\n",
       "      <td>MORTGAGE</td>\n",
       "      <td>NaN</td>\n",
       "      <td>PERSONAL</td>\n",
       "      <td>B</td>\n",
       "      <td>7200.0</td>\n",
       "      <td>12.69</td>\n",
       "      <td>0</td>\n",
       "      <td>0.16</td>\n",
       "      <td>N</td>\n",
       "      <td>5</td>\n",
       "    </tr>\n",
       "    <tr>\n",
       "      <th>2</th>\n",
       "      <td>34</td>\n",
       "      <td>27000</td>\n",
       "      <td>RENT</td>\n",
       "      <td>3.0</td>\n",
       "      <td>VENTURE</td>\n",
       "      <td>B</td>\n",
       "      <td>2525.0</td>\n",
       "      <td>12.21</td>\n",
       "      <td>0</td>\n",
       "      <td>0.09</td>\n",
       "      <td>N</td>\n",
       "      <td>7</td>\n",
       "    </tr>\n",
       "    <tr>\n",
       "      <th>3</th>\n",
       "      <td>31</td>\n",
       "      <td>82524</td>\n",
       "      <td>MORTGAGE</td>\n",
       "      <td>4.0</td>\n",
       "      <td>VENTURE</td>\n",
       "      <td>A</td>\n",
       "      <td>12000.0</td>\n",
       "      <td>6.62</td>\n",
       "      <td>0</td>\n",
       "      <td>0.15</td>\n",
       "      <td>N</td>\n",
       "      <td>8</td>\n",
       "    </tr>\n",
       "    <tr>\n",
       "      <th>4</th>\n",
       "      <td>23</td>\n",
       "      <td>79992</td>\n",
       "      <td>MORTGAGE</td>\n",
       "      <td>7.0</td>\n",
       "      <td>DEBTCONSOLIDATION</td>\n",
       "      <td>B</td>\n",
       "      <td>6000.0</td>\n",
       "      <td>NaN</td>\n",
       "      <td>0</td>\n",
       "      <td>0.08</td>\n",
       "      <td>N</td>\n",
       "      <td>3</td>\n",
       "    </tr>\n",
       "  </tbody>\n",
       "</table>\n",
       "</div>"
      ],
      "text/plain": [
       "   person_age  person_income person_home_ownership person_emp_length  \\\n",
       "0          23          39292              MORTGAGE               3.0   \n",
       "1          32          45000              MORTGAGE               NaN   \n",
       "2          34          27000                  RENT               3.0   \n",
       "3          31          82524              MORTGAGE               4.0   \n",
       "4          23          79992              MORTGAGE               7.0   \n",
       "\n",
       "         loan_intent loan_grade loan_amnt loan_int_rate  loan_status  \\\n",
       "0           PERSONAL          A    3250.0           NaN            1   \n",
       "1           PERSONAL          B    7200.0         12.69            0   \n",
       "2            VENTURE          B    2525.0         12.21            0   \n",
       "3            VENTURE          A   12000.0          6.62            0   \n",
       "4  DEBTCONSOLIDATION          B    6000.0           NaN            0   \n",
       "\n",
       "  loan_percent_income cb_person_default_on_file cb_person_cred_hist_length  \n",
       "0                0.08                         N                          4  \n",
       "1                0.16                         N                          5  \n",
       "2                0.09                         N                          7  \n",
       "3                0.15                         N                          8  \n",
       "4                0.08                         N                          3  "
      ]
     },
     "execution_count": 222,
     "metadata": {},
     "output_type": "execute_result"
    }
   ],
   "source": [
    "# visualizando o dataset sem a coluna person_name\n",
    "\n",
    "df.head()"
   ]
  },
  {
   "cell_type": "markdown",
   "metadata": {
    "id": "hsYQOFutnlBk"
   },
   "source": [
    "<font color=pink|black|black>*###SUA RESPOSTA TERMINA AQUI###*</font>"
   ]
  },
  {
   "cell_type": "markdown",
   "metadata": {
    "id": "dAGUleNinlBl"
   },
   "source": [
    "# 4. Visualização Avançada e Agrupamentos\n",
    "Chegou o grande momento! Os dados estavam muito sujos e agora sim podemos gerar gráficos e filtragens mais elaboradas para responder as perguntas de forma mais precisa. Como já citado anteriormente, recomendamos que utilize as bibliotecas matplotlib e seaborn para a criação dos gráficos (principalmente a última devido a sua simplicidade). \n",
    "\n",
    "Caso você deseje ir além dos exercícios para sua análise, aqui estão algumas dicas:\n",
    "  - Relacione as variáveis em um mesmo gráfico.\n",
    "  - Correlações em um heatmap (mapa de calor) são bem interessante, tente transformar as variáveis categóricas em numéricas e veja o que acontece\n",
    "  - Inicialmente, crie gráficos mais simples relacionando 2 variáveis.\n",
    "  - Posteriormente, crie gráficos mais avançados relacionando mais de 2 variáveis.\n",
    "  - Há dados que visualmente se destacam sendo indicativos de fraude?\n",
    "\n",
    "**Obs:** Os exercícios devem ser realizados, porém não se prenda a eles. Para embasar melhor sua conclusão, você está livre para fazer qualquer análise fora a desses exercícios propostos."
   ]
  },
  {
   "cell_type": "markdown",
   "metadata": {
    "id": "YpuQzvDwnlBl"
   },
   "source": [
    "## Exercício 1: Para qual linha de crédito há maior demanda? Crie um gráfico para mostrar sua resposta visualmente\n",
    "\n",
    "<font color=pink|black|black>*###SUA RESPOSTA COMECA AQUI###*</font>"
   ]
  },
  {
   "cell_type": "code",
   "execution_count": 223,
   "metadata": {
    "id": "eUdpD5mJnlBm"
   },
   "outputs": [],
   "source": [
    "# transformando a coluna de object para numeric\n",
    "\n",
    "df['loan_amnt'] = pd.to_numeric(df['loan_amnt'])\n",
    "df['person_emp_length'] = pd.to_numeric(df['person_emp_length'])"
   ]
  },
  {
   "cell_type": "code",
   "execution_count": 224,
   "metadata": {},
   "outputs": [
    {
     "data": {
      "text/html": [
       "<div>\n",
       "<style scoped>\n",
       "    .dataframe tbody tr th:only-of-type {\n",
       "        vertical-align: middle;\n",
       "    }\n",
       "\n",
       "    .dataframe tbody tr th {\n",
       "        vertical-align: top;\n",
       "    }\n",
       "\n",
       "    .dataframe thead th {\n",
       "        text-align: right;\n",
       "    }\n",
       "</style>\n",
       "<table border=\"1\" class=\"dataframe\">\n",
       "  <thead>\n",
       "    <tr style=\"text-align: right;\">\n",
       "      <th></th>\n",
       "      <th>person_age</th>\n",
       "      <th>person_income</th>\n",
       "      <th>person_home_ownership</th>\n",
       "      <th>person_emp_length</th>\n",
       "      <th>loan_intent</th>\n",
       "      <th>loan_grade</th>\n",
       "      <th>loan_amnt</th>\n",
       "      <th>loan_int_rate</th>\n",
       "      <th>loan_status</th>\n",
       "      <th>loan_percent_income</th>\n",
       "      <th>cb_person_default_on_file</th>\n",
       "      <th>cb_person_cred_hist_length</th>\n",
       "    </tr>\n",
       "  </thead>\n",
       "  <tbody>\n",
       "    <tr>\n",
       "      <th>0</th>\n",
       "      <td>23</td>\n",
       "      <td>39292</td>\n",
       "      <td>MORTGAGE</td>\n",
       "      <td>3.0</td>\n",
       "      <td>PERSONAL</td>\n",
       "      <td>A</td>\n",
       "      <td>3250.0</td>\n",
       "      <td>NaN</td>\n",
       "      <td>1</td>\n",
       "      <td>0.08</td>\n",
       "      <td>N</td>\n",
       "      <td>4</td>\n",
       "    </tr>\n",
       "    <tr>\n",
       "      <th>1</th>\n",
       "      <td>32</td>\n",
       "      <td>45000</td>\n",
       "      <td>MORTGAGE</td>\n",
       "      <td>NaN</td>\n",
       "      <td>PERSONAL</td>\n",
       "      <td>B</td>\n",
       "      <td>7200.0</td>\n",
       "      <td>12.69</td>\n",
       "      <td>0</td>\n",
       "      <td>0.16</td>\n",
       "      <td>N</td>\n",
       "      <td>5</td>\n",
       "    </tr>\n",
       "    <tr>\n",
       "      <th>2</th>\n",
       "      <td>34</td>\n",
       "      <td>27000</td>\n",
       "      <td>RENT</td>\n",
       "      <td>3.0</td>\n",
       "      <td>VENTURE</td>\n",
       "      <td>B</td>\n",
       "      <td>2525.0</td>\n",
       "      <td>12.21</td>\n",
       "      <td>0</td>\n",
       "      <td>0.09</td>\n",
       "      <td>N</td>\n",
       "      <td>7</td>\n",
       "    </tr>\n",
       "    <tr>\n",
       "      <th>3</th>\n",
       "      <td>31</td>\n",
       "      <td>82524</td>\n",
       "      <td>MORTGAGE</td>\n",
       "      <td>4.0</td>\n",
       "      <td>VENTURE</td>\n",
       "      <td>A</td>\n",
       "      <td>12000.0</td>\n",
       "      <td>6.62</td>\n",
       "      <td>0</td>\n",
       "      <td>0.15</td>\n",
       "      <td>N</td>\n",
       "      <td>8</td>\n",
       "    </tr>\n",
       "    <tr>\n",
       "      <th>4</th>\n",
       "      <td>23</td>\n",
       "      <td>79992</td>\n",
       "      <td>MORTGAGE</td>\n",
       "      <td>7.0</td>\n",
       "      <td>DEBTCONSOLIDATION</td>\n",
       "      <td>B</td>\n",
       "      <td>6000.0</td>\n",
       "      <td>NaN</td>\n",
       "      <td>0</td>\n",
       "      <td>0.08</td>\n",
       "      <td>N</td>\n",
       "      <td>3</td>\n",
       "    </tr>\n",
       "  </tbody>\n",
       "</table>\n",
       "</div>"
      ],
      "text/plain": [
       "   person_age  person_income person_home_ownership  person_emp_length  \\\n",
       "0          23          39292              MORTGAGE                3.0   \n",
       "1          32          45000              MORTGAGE                NaN   \n",
       "2          34          27000                  RENT                3.0   \n",
       "3          31          82524              MORTGAGE                4.0   \n",
       "4          23          79992              MORTGAGE                7.0   \n",
       "\n",
       "         loan_intent loan_grade  loan_amnt loan_int_rate  loan_status  \\\n",
       "0           PERSONAL          A     3250.0           NaN            1   \n",
       "1           PERSONAL          B     7200.0         12.69            0   \n",
       "2            VENTURE          B     2525.0         12.21            0   \n",
       "3            VENTURE          A    12000.0          6.62            0   \n",
       "4  DEBTCONSOLIDATION          B     6000.0           NaN            0   \n",
       "\n",
       "  loan_percent_income cb_person_default_on_file cb_person_cred_hist_length  \n",
       "0                0.08                         N                          4  \n",
       "1                0.16                         N                          5  \n",
       "2                0.09                         N                          7  \n",
       "3                0.15                         N                          8  \n",
       "4                0.08                         N                          3  "
      ]
     },
     "execution_count": 224,
     "metadata": {},
     "output_type": "execute_result"
    }
   ],
   "source": [
    "df.head()"
   ]
  },
  {
   "cell_type": "code",
   "execution_count": 225,
   "metadata": {},
   "outputs": [
    {
     "data": {
      "image/png": "[encoded data removed]",
      "text/plain": [
       "<Figure size 864x504 with 1 Axes>"
      ]
     },
     "metadata": {
      "needs_background": "light"
     },
     "output_type": "display_data"
    }
   ],
   "source": [
    "# vendo a linha de crédito com maior demanda\n",
    "\n",
    "qtde_linha_credito = df['loan_amnt'].value_counts().values[:10]  # definindo os 10 maiores valores\n",
    "valor_linha_credito = df['loan_amnt'].value_counts().index[:10]  # definindo as 10 maiores linhas de crédito\n",
    "\n",
    "\n",
    "fig = plt.figure(figsize=(12,7))   # indicando qual será o tamanho da figura plotada.\n",
    "ax = sns.barplot(qtde_linha_credito, valor_linha_credito, data=df, orient = 'horizont', palette=\"pastel\") \n",
    "plt.title('10 maiores linhas de crédito', fontsize = 18, color='#273746', weight='bold') # adicionando título\n",
    "plt.ylabel('Valor linha de crédito', color='#273746', fontsize = 14) \n",
    "plt.xlabel('Demanda', fontsize = 14, color='#273746')\n",
    "\n",
    "plt.show()"
   ]
  },
  {
   "cell_type": "markdown",
   "metadata": {},
   "source": [
    "* Podemos concluir que a linha de crédito mais demandada é a de 10.000"
   ]
  },
  {
   "cell_type": "markdown",
   "metadata": {
    "id": "l4o8UIblnlBm"
   },
   "source": [
    "<font color=pink|black|black>*###SUA RESPOSTA TERMINA AQUI###*</font>"
   ]
  },
  {
   "cell_type": "markdown",
   "metadata": {
    "id": "NFJhbULznlBm"
   },
   "source": [
    "## Exercício 2: Crie boxplots para responder:\n",
    "    Há diferença entre as taxas média de juros cobradas sobre indíviduos que possuem 6, 12 e 18 meses de tempo de emprego atual? Qual é a média da taxa de juros praticadas sobre cada um desses grupos?\n",
    "    \n",
    "    Aproveite o embalo e crie outro boxplot relacionando o score e taxa de juros(lembre-se que para isso será necessário transformar as notas do score que são categóricas, para numéricas. Exemplo: a nota 'A' corresponde a 0, a nota 'B' a 1 e assim por diante..) Esse é um dado que pode esclarecer muitas coisas mais abaixo\n",
    "    \n",
    "\n",
    "<font color=pink|black|black>*###SUA RESPOSTA COMECA AQUI###*</font>"
   ]
  },
  {
   "cell_type": "code",
   "execution_count": 227,
   "metadata": {},
   "outputs": [
    {
     "data": {
      "text/plain": [
       "6.0     2745\n",
       "12.0     580\n",
       "18.0     107\n",
       "Name: person_emp_length, dtype: int64"
      ]
     },
     "execution_count": 227,
     "metadata": {},
     "output_type": "execute_result"
    }
   ],
   "source": [
    "data_time['person_emp_length'].value_counts()"
   ]
  },
  {
   "cell_type": "code",
   "execution_count": 228,
   "metadata": {},
   "outputs": [
    {
     "data": {
      "text/plain": [
       "5.42     94\n",
       "7.51     84\n",
       "6.03     79\n",
       "10.99    76\n",
       "7.88     71\n",
       "         ..\n",
       "17.43     1\n",
       "14.38     1\n",
       "16.33     1\n",
       "17.03     1\n",
       "12.8      1\n",
       "Name: loan_int_rate, Length: 237, dtype: int64"
      ]
     },
     "execution_count": 228,
     "metadata": {},
     "output_type": "execute_result"
    }
   ],
   "source": [
    "data_time['loan_int_rate'].value_counts()"
   ]
  },
  {
   "cell_type": "code",
   "execution_count": 229,
   "metadata": {},
   "outputs": [],
   "source": [
    "# transformando as colunas em númericos\n",
    "\n",
    "data_time['person_emp_length'] = pd.to_numeric(data_time['person_emp_length'])\n",
    "data_time['loan_int_rate'] = pd.to_numeric(data_time['loan_int_rate'])"
   ]
  },
  {
   "cell_type": "code",
   "execution_count": 230,
   "metadata": {},
   "outputs": [
    {
     "data": {
      "image/png": "[encoded data removed]",
      "text/plain": [
       "<Figure size 864x504 with 1 Axes>"
      ]
     },
     "metadata": {
      "needs_background": "light"
     },
     "output_type": "display_data"
    }
   ],
   "source": [
    "# Visualizando o boxplot Tempo empregado X taxa de juros\n",
    "\n",
    "fig = plt.figure(figsize=(12,7))\n",
    "\n",
    "ax = sns.boxplot(x= data_time['person_emp_length'], y=data_time['loan_int_rate'], palette=\"pastel\")\n",
    "plt.title('Taxa média de juros para empregados de 6, 12, 18 meses', fontsize = 18, color='#273746', weight='bold') # adicionando título\n",
    "plt.ylabel('Taxa de juros', color='#273746', fontsize = 14) \n",
    "plt.xlabel('Tempo empregado', color='#273746', fontsize = 14)\n",
    "\n",
    "plt.show()"
   ]
  },
  {
   "cell_type": "code",
   "execution_count": 231,
   "metadata": {},
   "outputs": [
    {
     "data": {
      "image/png": "[encoded data removed]",
      "text/plain": [
       "<Figure size 864x504 with 1 Axes>"
      ]
     },
     "metadata": {
      "needs_background": "light"
     },
     "output_type": "display_data"
    }
   ],
   "source": [
    "# Visualizando a taxa de juros X Score\n",
    "\n",
    "fig = plt.figure(figsize=(12,7))\n",
    "\n",
    "ax = sns.boxplot(x= data_time['loan_grade'], y=data_time['loan_int_rate'], palette=\"pastel\")\n",
    "plt.title('Taxa média de juros X Score', fontsize = 18, color='#273746', weight='bold') # adicionando título\n",
    "plt.ylabel('Taxa de juros', color='#273746', fontsize = 14) \n",
    "plt.xlabel('Score', color='#273746', fontsize = 14)\n",
    "\n",
    "plt.show()"
   ]
  },
  {
   "cell_type": "code",
   "execution_count": 232,
   "metadata": {},
   "outputs": [
    {
     "data": {
      "text/html": [
       "<div>\n",
       "<style scoped>\n",
       "    .dataframe tbody tr th:only-of-type {\n",
       "        vertical-align: middle;\n",
       "    }\n",
       "\n",
       "    .dataframe tbody tr th {\n",
       "        vertical-align: top;\n",
       "    }\n",
       "\n",
       "    .dataframe thead th {\n",
       "        text-align: right;\n",
       "    }\n",
       "</style>\n",
       "<table border=\"1\" class=\"dataframe\">\n",
       "  <thead>\n",
       "    <tr style=\"text-align: right;\">\n",
       "      <th></th>\n",
       "      <th>person_age</th>\n",
       "      <th>person_income</th>\n",
       "      <th>person_home_ownership</th>\n",
       "      <th>person_emp_length</th>\n",
       "      <th>loan_intent</th>\n",
       "      <th>loan_grade</th>\n",
       "      <th>loan_amnt</th>\n",
       "      <th>loan_int_rate</th>\n",
       "      <th>loan_status</th>\n",
       "      <th>loan_percent_income</th>\n",
       "      <th>cb_person_default_on_file</th>\n",
       "      <th>cb_person_cred_hist_length</th>\n",
       "    </tr>\n",
       "  </thead>\n",
       "  <tbody>\n",
       "    <tr>\n",
       "      <th>14</th>\n",
       "      <td>22</td>\n",
       "      <td>38004</td>\n",
       "      <td>RENT</td>\n",
       "      <td>6.0</td>\n",
       "      <td>VENTURE</td>\n",
       "      <td>1</td>\n",
       "      <td>10000.0</td>\n",
       "      <td>10.74</td>\n",
       "      <td>0</td>\n",
       "      <td>0.26</td>\n",
       "      <td>N</td>\n",
       "      <td>3</td>\n",
       "    </tr>\n",
       "    <tr>\n",
       "      <th>19</th>\n",
       "      <td>24</td>\n",
       "      <td>42000</td>\n",
       "      <td>MORTGAGE</td>\n",
       "      <td>6.0</td>\n",
       "      <td>MEDICAL</td>\n",
       "      <td>0</td>\n",
       "      <td>3125.0</td>\n",
       "      <td>8.90</td>\n",
       "      <td>0</td>\n",
       "      <td>0.07</td>\n",
       "      <td>N</td>\n",
       "      <td>3</td>\n",
       "    </tr>\n",
       "    <tr>\n",
       "      <th>20</th>\n",
       "      <td>26</td>\n",
       "      <td>104550</td>\n",
       "      <td>MORTGAGE</td>\n",
       "      <td>6.0</td>\n",
       "      <td>MEDICAL</td>\n",
       "      <td>3</td>\n",
       "      <td>15000.0</td>\n",
       "      <td>15.33</td>\n",
       "      <td>1</td>\n",
       "      <td>0.12</td>\n",
       "      <td>N</td>\n",
       "      <td>3</td>\n",
       "    </tr>\n",
       "    <tr>\n",
       "      <th>25</th>\n",
       "      <td>22</td>\n",
       "      <td>51000</td>\n",
       "      <td>RENT</td>\n",
       "      <td>6.0</td>\n",
       "      <td>EDUCATION</td>\n",
       "      <td>0</td>\n",
       "      <td>10000.0</td>\n",
       "      <td>5.42</td>\n",
       "      <td>1</td>\n",
       "      <td>0.2</td>\n",
       "      <td>N</td>\n",
       "      <td>4</td>\n",
       "    </tr>\n",
       "    <tr>\n",
       "      <th>47</th>\n",
       "      <td>36</td>\n",
       "      <td>46000</td>\n",
       "      <td>MORTGAGE</td>\n",
       "      <td>6.0</td>\n",
       "      <td>PERSONAL</td>\n",
       "      <td>2</td>\n",
       "      <td>5350.0</td>\n",
       "      <td>15.27</td>\n",
       "      <td>1</td>\n",
       "      <td>0.12</td>\n",
       "      <td>N</td>\n",
       "      <td>12</td>\n",
       "    </tr>\n",
       "  </tbody>\n",
       "</table>\n",
       "</div>"
      ],
      "text/plain": [
       "    person_age  person_income person_home_ownership  person_emp_length  \\\n",
       "14          22          38004                  RENT                6.0   \n",
       "19          24          42000              MORTGAGE                6.0   \n",
       "20          26         104550              MORTGAGE                6.0   \n",
       "25          22          51000                  RENT                6.0   \n",
       "47          36          46000              MORTGAGE                6.0   \n",
       "\n",
       "   loan_intent  loan_grade  loan_amnt  loan_int_rate  loan_status  \\\n",
       "14     VENTURE           1    10000.0          10.74            0   \n",
       "19     MEDICAL           0     3125.0           8.90            0   \n",
       "20     MEDICAL           3    15000.0          15.33            1   \n",
       "25   EDUCATION           0    10000.0           5.42            1   \n",
       "47    PERSONAL           2     5350.0          15.27            1   \n",
       "\n",
       "   loan_percent_income cb_person_default_on_file cb_person_cred_hist_length  \n",
       "14                0.26                         N                          3  \n",
       "19                0.07                         N                          3  \n",
       "20                0.12                         N                          3  \n",
       "25                 0.2                         N                          4  \n",
       "47                0.12                         N                         12  "
      ]
     },
     "execution_count": 232,
     "metadata": {},
     "output_type": "execute_result"
    }
   ],
   "source": [
    "# mudando a categoria da variável 'loan_grade'\n",
    "\n",
    "score_numeric = {\n",
    "    'A': 0,\n",
    "    'B': 1,\n",
    "    'C': 2,\n",
    "    'D': 3,\n",
    "    'E': 4, \n",
    "    'F': 5,\n",
    "    'G': 6\n",
    "}\n",
    "\n",
    "data_time['loan_grade'] = data_time['loan_grade'].map(score_numeric)\n",
    "data_time.head()"
   ]
  },
  {
   "cell_type": "code",
   "execution_count": 262,
   "metadata": {},
   "outputs": [
    {
     "data": {
      "image/png": "[encoded data removed]",
      "text/plain": [
       "<Figure size 864x504 with 1 Axes>"
      ]
     },
     "metadata": {
      "needs_background": "light"
     },
     "output_type": "display_data"
    }
   ],
   "source": [
    "# Visualizando os boxplots de taxa de juros X Score\n",
    "\n",
    "fig = plt.figure(figsize=(12,7))\n",
    "\n",
    "ax = sns.boxplot(x= data_time['loan_grade'], y=data_time['loan_int_rate'], palette=\"pastel\")\n",
    "plt.title('Taxa média de juros X Score', fontsize = 18, color='#273746', weight='bold') # adicionando título\n",
    "plt.ylabel('Taxa de juros', color='#273746', fontsize = 14) \n",
    "plt.xlabel('Score', color='#273746', fontsize = 14)\n",
    "\n",
    "plt.show()"
   ]
  },
  {
   "cell_type": "markdown",
   "metadata": {},
   "source": [
    "* Possuimos alguns outliers (valores fora do padrão) para os Scores 2 e 3\n",
    "* Podemos notar que os Scores 1,2 e 3 possuem uma distribuição simétrica dos dados"
   ]
  },
  {
   "cell_type": "markdown",
   "metadata": {
    "id": "gX5xO5EwnlBn"
   },
   "source": [
    "<font color=pink|black|black>*###SUA RESPOSTA TERMINA AQUI###*</font>"
   ]
  },
  {
   "cell_type": "markdown",
   "metadata": {
    "id": "1wVF9SdYnlBo"
   },
   "source": [
    "## Exercício 3: Existe alguma correlação entre a faixa etária dos devedores e seus respectivos scores? E em relação à renda: há conexão entre a renda dos indivíduos e a taxa de juros cobradas pelo Dev.Credit? Apresente seus dados graficamente para embasar sua resposta\n",
    "\n",
    "<font color=pink|black|black>*###SUA RESPOSTA COMECA AQUI###*</font>"
   ]
  },
  {
   "cell_type": "code",
   "execution_count": 234,
   "metadata": {},
   "outputs": [
    {
     "data": {
      "text/html": [
       "<div>\n",
       "<style scoped>\n",
       "    .dataframe tbody tr th:only-of-type {\n",
       "        vertical-align: middle;\n",
       "    }\n",
       "\n",
       "    .dataframe tbody tr th {\n",
       "        vertical-align: top;\n",
       "    }\n",
       "\n",
       "    .dataframe thead th {\n",
       "        text-align: right;\n",
       "    }\n",
       "</style>\n",
       "<table border=\"1\" class=\"dataframe\">\n",
       "  <thead>\n",
       "    <tr style=\"text-align: right;\">\n",
       "      <th></th>\n",
       "      <th>person_age</th>\n",
       "      <th>person_income</th>\n",
       "      <th>person_home_ownership</th>\n",
       "      <th>person_emp_length</th>\n",
       "      <th>loan_intent</th>\n",
       "      <th>loan_grade</th>\n",
       "      <th>loan_amnt</th>\n",
       "      <th>loan_int_rate</th>\n",
       "      <th>loan_status</th>\n",
       "      <th>loan_percent_income</th>\n",
       "      <th>cb_person_default_on_file</th>\n",
       "      <th>cb_person_cred_hist_length</th>\n",
       "    </tr>\n",
       "  </thead>\n",
       "  <tbody>\n",
       "    <tr>\n",
       "      <th>0</th>\n",
       "      <td>23</td>\n",
       "      <td>39292</td>\n",
       "      <td>MORTGAGE</td>\n",
       "      <td>3.0</td>\n",
       "      <td>PERSONAL</td>\n",
       "      <td>0</td>\n",
       "      <td>3250.0</td>\n",
       "      <td>NaN</td>\n",
       "      <td>1</td>\n",
       "      <td>0.08</td>\n",
       "      <td>N</td>\n",
       "      <td>4</td>\n",
       "    </tr>\n",
       "    <tr>\n",
       "      <th>1</th>\n",
       "      <td>32</td>\n",
       "      <td>45000</td>\n",
       "      <td>MORTGAGE</td>\n",
       "      <td>NaN</td>\n",
       "      <td>PERSONAL</td>\n",
       "      <td>1</td>\n",
       "      <td>7200.0</td>\n",
       "      <td>12.69</td>\n",
       "      <td>0</td>\n",
       "      <td>0.16</td>\n",
       "      <td>N</td>\n",
       "      <td>5</td>\n",
       "    </tr>\n",
       "    <tr>\n",
       "      <th>2</th>\n",
       "      <td>34</td>\n",
       "      <td>27000</td>\n",
       "      <td>RENT</td>\n",
       "      <td>3.0</td>\n",
       "      <td>VENTURE</td>\n",
       "      <td>1</td>\n",
       "      <td>2525.0</td>\n",
       "      <td>12.21</td>\n",
       "      <td>0</td>\n",
       "      <td>0.09</td>\n",
       "      <td>N</td>\n",
       "      <td>7</td>\n",
       "    </tr>\n",
       "    <tr>\n",
       "      <th>3</th>\n",
       "      <td>31</td>\n",
       "      <td>82524</td>\n",
       "      <td>MORTGAGE</td>\n",
       "      <td>4.0</td>\n",
       "      <td>VENTURE</td>\n",
       "      <td>0</td>\n",
       "      <td>12000.0</td>\n",
       "      <td>6.62</td>\n",
       "      <td>0</td>\n",
       "      <td>0.15</td>\n",
       "      <td>N</td>\n",
       "      <td>8</td>\n",
       "    </tr>\n",
       "    <tr>\n",
       "      <th>4</th>\n",
       "      <td>23</td>\n",
       "      <td>79992</td>\n",
       "      <td>MORTGAGE</td>\n",
       "      <td>7.0</td>\n",
       "      <td>DEBTCONSOLIDATION</td>\n",
       "      <td>1</td>\n",
       "      <td>6000.0</td>\n",
       "      <td>NaN</td>\n",
       "      <td>0</td>\n",
       "      <td>0.08</td>\n",
       "      <td>N</td>\n",
       "      <td>3</td>\n",
       "    </tr>\n",
       "  </tbody>\n",
       "</table>\n",
       "</div>"
      ],
      "text/plain": [
       "   person_age  person_income person_home_ownership  person_emp_length  \\\n",
       "0          23          39292              MORTGAGE                3.0   \n",
       "1          32          45000              MORTGAGE                NaN   \n",
       "2          34          27000                  RENT                3.0   \n",
       "3          31          82524              MORTGAGE                4.0   \n",
       "4          23          79992              MORTGAGE                7.0   \n",
       "\n",
       "         loan_intent  loan_grade  loan_amnt loan_int_rate  loan_status  \\\n",
       "0           PERSONAL           0     3250.0           NaN            1   \n",
       "1           PERSONAL           1     7200.0         12.69            0   \n",
       "2            VENTURE           1     2525.0         12.21            0   \n",
       "3            VENTURE           0    12000.0          6.62            0   \n",
       "4  DEBTCONSOLIDATION           1     6000.0           NaN            0   \n",
       "\n",
       "  loan_percent_income cb_person_default_on_file cb_person_cred_hist_length  \n",
       "0                0.08                         N                          4  \n",
       "1                0.16                         N                          5  \n",
       "2                0.09                         N                          7  \n",
       "3                0.15                         N                          8  \n",
       "4                0.08                         N                          3  "
      ]
     },
     "execution_count": 234,
     "metadata": {},
     "output_type": "execute_result"
    }
   ],
   "source": [
    "# mudando a categoria da variável 'loan_grade'\n",
    "\n",
    "score_numeric = {\n",
    "    'A': 0,\n",
    "    'B': 1,\n",
    "    'C': 2,\n",
    "    'D': 3,\n",
    "    'E': 4, \n",
    "    'F': 5,\n",
    "    'G': 6\n",
    "}\n",
    "\n",
    "df['loan_grade'] = df['loan_grade'].map(score_numeric)\n",
    "df.head()"
   ]
  },
  {
   "cell_type": "code",
   "execution_count": 235,
   "metadata": {
    "id": "SJCB-p-3nlBo"
   },
   "outputs": [
    {
     "data": {
      "text/html": [
       "<div>\n",
       "<style scoped>\n",
       "    .dataframe tbody tr th:only-of-type {\n",
       "        vertical-align: middle;\n",
       "    }\n",
       "\n",
       "    .dataframe tbody tr th {\n",
       "        vertical-align: top;\n",
       "    }\n",
       "\n",
       "    .dataframe thead th {\n",
       "        text-align: right;\n",
       "    }\n",
       "</style>\n",
       "<table border=\"1\" class=\"dataframe\">\n",
       "  <thead>\n",
       "    <tr style=\"text-align: right;\">\n",
       "      <th></th>\n",
       "      <th>person_age</th>\n",
       "      <th>person_income</th>\n",
       "      <th>person_emp_length</th>\n",
       "      <th>loan_grade</th>\n",
       "      <th>loan_amnt</th>\n",
       "      <th>loan_int_rate</th>\n",
       "      <th>loan_status</th>\n",
       "    </tr>\n",
       "  </thead>\n",
       "  <tbody>\n",
       "    <tr>\n",
       "      <th>person_age</th>\n",
       "      <td>1.000000</td>\n",
       "      <td>0.141235</td>\n",
       "      <td>0.163655</td>\n",
       "      <td>0.015287</td>\n",
       "      <td>0.051132</td>\n",
       "      <td>0.013518</td>\n",
       "      <td>-0.020384</td>\n",
       "    </tr>\n",
       "    <tr>\n",
       "      <th>person_income</th>\n",
       "      <td>0.141235</td>\n",
       "      <td>1.000000</td>\n",
       "      <td>0.153204</td>\n",
       "      <td>-0.003270</td>\n",
       "      <td>0.319494</td>\n",
       "      <td>-0.000377</td>\n",
       "      <td>-0.168064</td>\n",
       "    </tr>\n",
       "    <tr>\n",
       "      <th>person_emp_length</th>\n",
       "      <td>0.163655</td>\n",
       "      <td>0.153204</td>\n",
       "      <td>1.000000</td>\n",
       "      <td>-0.047674</td>\n",
       "      <td>0.111971</td>\n",
       "      <td>-0.056835</td>\n",
       "      <td>-0.083697</td>\n",
       "    </tr>\n",
       "    <tr>\n",
       "      <th>loan_grade</th>\n",
       "      <td>0.015287</td>\n",
       "      <td>-0.003270</td>\n",
       "      <td>-0.047674</td>\n",
       "      <td>1.000000</td>\n",
       "      <td>0.145108</td>\n",
       "      <td>0.933567</td>\n",
       "      <td>0.372881</td>\n",
       "    </tr>\n",
       "    <tr>\n",
       "      <th>loan_amnt</th>\n",
       "      <td>0.051132</td>\n",
       "      <td>0.319494</td>\n",
       "      <td>0.111971</td>\n",
       "      <td>0.145108</td>\n",
       "      <td>1.000000</td>\n",
       "      <td>0.146699</td>\n",
       "      <td>0.105867</td>\n",
       "    </tr>\n",
       "    <tr>\n",
       "      <th>loan_int_rate</th>\n",
       "      <td>0.013518</td>\n",
       "      <td>-0.000377</td>\n",
       "      <td>-0.056835</td>\n",
       "      <td>0.933567</td>\n",
       "      <td>0.146699</td>\n",
       "      <td>1.000000</td>\n",
       "      <td>0.334997</td>\n",
       "    </tr>\n",
       "    <tr>\n",
       "      <th>loan_status</th>\n",
       "      <td>-0.020384</td>\n",
       "      <td>-0.168064</td>\n",
       "      <td>-0.083697</td>\n",
       "      <td>0.372881</td>\n",
       "      <td>0.105867</td>\n",
       "      <td>0.334997</td>\n",
       "      <td>1.000000</td>\n",
       "    </tr>\n",
       "  </tbody>\n",
       "</table>\n",
       "</div>"
      ],
      "text/plain": [
       "                   person_age  person_income  person_emp_length  loan_grade  \\\n",
       "person_age           1.000000       0.141235           0.163655    0.015287   \n",
       "person_income        0.141235       1.000000           0.153204   -0.003270   \n",
       "person_emp_length    0.163655       0.153204           1.000000   -0.047674   \n",
       "loan_grade           0.015287      -0.003270          -0.047674    1.000000   \n",
       "loan_amnt            0.051132       0.319494           0.111971    0.145108   \n",
       "loan_int_rate        0.013518      -0.000377          -0.056835    0.933567   \n",
       "loan_status         -0.020384      -0.168064          -0.083697    0.372881   \n",
       "\n",
       "                   loan_amnt  loan_int_rate  loan_status  \n",
       "person_age          0.051132       0.013518    -0.020384  \n",
       "person_income       0.319494      -0.000377    -0.168064  \n",
       "person_emp_length   0.111971      -0.056835    -0.083697  \n",
       "loan_grade          0.145108       0.933567     0.372881  \n",
       "loan_amnt           1.000000       0.146699     0.105867  \n",
       "loan_int_rate       0.146699       1.000000     0.334997  \n",
       "loan_status         0.105867       0.334997     1.000000  "
      ]
     },
     "execution_count": 235,
     "metadata": {},
     "output_type": "execute_result"
    }
   ],
   "source": [
    "# transformando a coluna em numerica para ser inclusa na matriz de correlação\n",
    "\n",
    "df['loan_int_rate'] = pd.to_numeric(df['loan_int_rate'])\n",
    "\n",
    "correlacao = df.corr()\n",
    "correlacao"
   ]
  },
  {
   "cell_type": "code",
   "execution_count": 261,
   "metadata": {},
   "outputs": [
    {
     "data": {
      "image/png": "[encoded data removed]",
      "text/plain": [
       "<Figure size 864x504 with 2 Axes>"
      ]
     },
     "metadata": {
      "needs_background": "light"
     },
     "output_type": "display_data"
    }
   ],
   "source": [
    "# plotando uma matriz de correlação \n",
    "\n",
    "fig = plt.figure(figsize=(12,7))\n",
    "\n",
    "sns.heatmap(correlacao, linewidths=2 ,vmin=0, vmax=1, cmap='Blues')\n",
    "plt.title('Visualizando a correlação entre as variáveis', fontsize = 18, color='#273746', weight='bold')\n",
    "plt.show()"
   ]
  },
  {
   "cell_type": "markdown",
   "metadata": {},
   "source": [
    "   <h2>No gráfico de heatmap, podemos fazer algumas análises a respeito da correlação entre as variáveis do nosso dataset, segue algumas conclusões:</h2>\n",
    "    \n",
    "   * A correlação entre as variáveis 'loan_grade' e 'person_age' (score de crédito e idade da pessoa, respectivamente) é muito baixa, ou seja, não existe uma relação linear entre elas. \n",
    "   \n",
    "   * Observando a correlação entre, 'person_income'  e 'loan_int_rate' (renda anual da pessoa e juros pago pelo emprestimo, respectivamente), podemos tirar a mesma conclusão da análise passada.\n",
    "   \n",
    "   * Quando paramos para ver a correlação entre 'loan_int_rate' e 'loan_grade' ( juros pago pelo emprestimo e score), podemos ver uma forte correlação.\n"
   ]
  },
  {
   "cell_type": "markdown",
   "metadata": {
    "id": "j_S0TNYlnlBp"
   },
   "source": [
    "<font color=pink|black|black>*###SUA RESPOSTA TERMINA AQUI###*</font>"
   ]
  },
  {
   "cell_type": "markdown",
   "metadata": {
    "id": "0qeyzFpnnlBp"
   },
   "source": [
    "## Exercício 5: Considerando que:\n",
    "\n",
    "- A data de concessão desses créditos foi a mesma (01/01/2022)\n",
    "- A data de vencimento dessas dívidas é a mesma (01/01/2023)\n",
    "- Que nenhum dos créditos inadimplentes será recuperado\n",
    "- Considere que cada linha do DataSet é um crédito/concessão diferente.\n",
    "\n",
    "Indique:\n",
    "\n",
    "Qual será a receita total provenientes desses créditos.\n",
    "\n",
    "Qual será o prejuízo total proveniente dos calotes\n",
    "\n",
    "<font color=pink|black|black>*###SUA RESPOSTA COMECA AQUI###*</font>"
   ]
  },
  {
   "cell_type": "code",
   "execution_count": 237,
   "metadata": {
    "id": "JJUFO__anlBp"
   },
   "outputs": [
    {
     "data": {
      "text/html": [
       "<div>\n",
       "<style scoped>\n",
       "    .dataframe tbody tr th:only-of-type {\n",
       "        vertical-align: middle;\n",
       "    }\n",
       "\n",
       "    .dataframe tbody tr th {\n",
       "        vertical-align: top;\n",
       "    }\n",
       "\n",
       "    .dataframe thead th {\n",
       "        text-align: right;\n",
       "    }\n",
       "</style>\n",
       "<table border=\"1\" class=\"dataframe\">\n",
       "  <thead>\n",
       "    <tr style=\"text-align: right;\">\n",
       "      <th></th>\n",
       "      <th>person_age</th>\n",
       "      <th>person_income</th>\n",
       "      <th>person_home_ownership</th>\n",
       "      <th>person_emp_length</th>\n",
       "      <th>loan_intent</th>\n",
       "      <th>loan_grade</th>\n",
       "      <th>loan_amnt</th>\n",
       "      <th>loan_int_rate</th>\n",
       "      <th>loan_status</th>\n",
       "      <th>loan_percent_income</th>\n",
       "      <th>cb_person_default_on_file</th>\n",
       "      <th>cb_person_cred_hist_length</th>\n",
       "    </tr>\n",
       "  </thead>\n",
       "  <tbody>\n",
       "    <tr>\n",
       "      <th>0</th>\n",
       "      <td>23</td>\n",
       "      <td>39292</td>\n",
       "      <td>MORTGAGE</td>\n",
       "      <td>3.0</td>\n",
       "      <td>PERSONAL</td>\n",
       "      <td>0</td>\n",
       "      <td>3250.0</td>\n",
       "      <td>NaN</td>\n",
       "      <td>1</td>\n",
       "      <td>0.08</td>\n",
       "      <td>N</td>\n",
       "      <td>4</td>\n",
       "    </tr>\n",
       "    <tr>\n",
       "      <th>1</th>\n",
       "      <td>32</td>\n",
       "      <td>45000</td>\n",
       "      <td>MORTGAGE</td>\n",
       "      <td>NaN</td>\n",
       "      <td>PERSONAL</td>\n",
       "      <td>1</td>\n",
       "      <td>7200.0</td>\n",
       "      <td>12.69</td>\n",
       "      <td>0</td>\n",
       "      <td>0.16</td>\n",
       "      <td>N</td>\n",
       "      <td>5</td>\n",
       "    </tr>\n",
       "    <tr>\n",
       "      <th>2</th>\n",
       "      <td>34</td>\n",
       "      <td>27000</td>\n",
       "      <td>RENT</td>\n",
       "      <td>3.0</td>\n",
       "      <td>VENTURE</td>\n",
       "      <td>1</td>\n",
       "      <td>2525.0</td>\n",
       "      <td>12.21</td>\n",
       "      <td>0</td>\n",
       "      <td>0.09</td>\n",
       "      <td>N</td>\n",
       "      <td>7</td>\n",
       "    </tr>\n",
       "    <tr>\n",
       "      <th>3</th>\n",
       "      <td>31</td>\n",
       "      <td>82524</td>\n",
       "      <td>MORTGAGE</td>\n",
       "      <td>4.0</td>\n",
       "      <td>VENTURE</td>\n",
       "      <td>0</td>\n",
       "      <td>12000.0</td>\n",
       "      <td>6.62</td>\n",
       "      <td>0</td>\n",
       "      <td>0.15</td>\n",
       "      <td>N</td>\n",
       "      <td>8</td>\n",
       "    </tr>\n",
       "    <tr>\n",
       "      <th>4</th>\n",
       "      <td>23</td>\n",
       "      <td>79992</td>\n",
       "      <td>MORTGAGE</td>\n",
       "      <td>7.0</td>\n",
       "      <td>DEBTCONSOLIDATION</td>\n",
       "      <td>1</td>\n",
       "      <td>6000.0</td>\n",
       "      <td>NaN</td>\n",
       "      <td>0</td>\n",
       "      <td>0.08</td>\n",
       "      <td>N</td>\n",
       "      <td>3</td>\n",
       "    </tr>\n",
       "  </tbody>\n",
       "</table>\n",
       "</div>"
      ],
      "text/plain": [
       "   person_age  person_income person_home_ownership  person_emp_length  \\\n",
       "0          23          39292              MORTGAGE                3.0   \n",
       "1          32          45000              MORTGAGE                NaN   \n",
       "2          34          27000                  RENT                3.0   \n",
       "3          31          82524              MORTGAGE                4.0   \n",
       "4          23          79992              MORTGAGE                7.0   \n",
       "\n",
       "         loan_intent  loan_grade  loan_amnt  loan_int_rate  loan_status  \\\n",
       "0           PERSONAL           0     3250.0            NaN            1   \n",
       "1           PERSONAL           1     7200.0          12.69            0   \n",
       "2            VENTURE           1     2525.0          12.21            0   \n",
       "3            VENTURE           0    12000.0           6.62            0   \n",
       "4  DEBTCONSOLIDATION           1     6000.0            NaN            0   \n",
       "\n",
       "  loan_percent_income cb_person_default_on_file cb_person_cred_hist_length  \n",
       "0                0.08                         N                          4  \n",
       "1                0.16                         N                          5  \n",
       "2                0.09                         N                          7  \n",
       "3                0.15                         N                          8  \n",
       "4                0.08                         N                          3  "
      ]
     },
     "execution_count": 237,
     "metadata": {},
     "output_type": "execute_result"
    }
   ],
   "source": [
    "df.head()"
   ]
  },
  {
   "cell_type": "code",
   "execution_count": 238,
   "metadata": {},
   "outputs": [
    {
     "data": {
      "text/plain": [
       "318087150.0"
      ]
     },
     "execution_count": 238,
     "metadata": {},
     "output_type": "execute_result"
    }
   ],
   "source": [
    "df['loan_amnt'].sum()"
   ]
  },
  {
   "cell_type": "markdown",
   "metadata": {
    "id": "sDkGDqiynlBq"
   },
   "source": [
    "<font color=pink|black|black>*###SUA RESPOSTA TERMINA AQUI###*</font>"
   ]
  },
  {
   "cell_type": "markdown",
   "metadata": {
    "id": "TjjDx0gDnlBq"
   },
   "source": [
    "## Exercício 6: Considerando as subdivisões apresentadas anteriormente, responda:\n",
    "\n",
    "Analise a quantidade total de créditos com default e os bons pagadores, mostre a porcentagem que cada grupo representa no total\n",
    "\n",
    "Qual o tipo de pessoa que tem maior probabilidade de dar calote?\n",
    "\n",
    "Dicas:\n",
    "  - Procure pelo método groupby\n",
    "  - Procure pelo método pivot table\n",
    "  - Não é necessário utilizá-los porém é um caminho mais fácil\n",
    "\n",
    "\n",
    "<font color=pink|black|black>*###SUA RESPOSTA COMECA AQUI###*</font>"
   ]
  },
  {
   "cell_type": "code",
   "execution_count": 239,
   "metadata": {
    "id": "OxD-qEr3nlBq"
   },
   "outputs": [
    {
     "data": {
      "text/html": [
       "<div>\n",
       "<style scoped>\n",
       "    .dataframe tbody tr th:only-of-type {\n",
       "        vertical-align: middle;\n",
       "    }\n",
       "\n",
       "    .dataframe tbody tr th {\n",
       "        vertical-align: top;\n",
       "    }\n",
       "\n",
       "    .dataframe thead th {\n",
       "        text-align: right;\n",
       "    }\n",
       "</style>\n",
       "<table border=\"1\" class=\"dataframe\">\n",
       "  <thead>\n",
       "    <tr style=\"text-align: right;\">\n",
       "      <th></th>\n",
       "      <th>person_age</th>\n",
       "      <th>person_income</th>\n",
       "      <th>person_home_ownership</th>\n",
       "      <th>person_emp_length</th>\n",
       "      <th>loan_intent</th>\n",
       "      <th>loan_grade</th>\n",
       "      <th>loan_amnt</th>\n",
       "      <th>loan_int_rate</th>\n",
       "      <th>loan_status</th>\n",
       "      <th>loan_percent_income</th>\n",
       "      <th>cb_person_default_on_file</th>\n",
       "      <th>cb_person_cred_hist_length</th>\n",
       "    </tr>\n",
       "  </thead>\n",
       "  <tbody>\n",
       "    <tr>\n",
       "      <th>0</th>\n",
       "      <td>23</td>\n",
       "      <td>39292</td>\n",
       "      <td>MORTGAGE</td>\n",
       "      <td>3.0</td>\n",
       "      <td>PERSONAL</td>\n",
       "      <td>0</td>\n",
       "      <td>3250.0</td>\n",
       "      <td>NaN</td>\n",
       "      <td>1</td>\n",
       "      <td>0.08</td>\n",
       "      <td>N</td>\n",
       "      <td>4</td>\n",
       "    </tr>\n",
       "    <tr>\n",
       "      <th>1</th>\n",
       "      <td>32</td>\n",
       "      <td>45000</td>\n",
       "      <td>MORTGAGE</td>\n",
       "      <td>NaN</td>\n",
       "      <td>PERSONAL</td>\n",
       "      <td>1</td>\n",
       "      <td>7200.0</td>\n",
       "      <td>12.69</td>\n",
       "      <td>0</td>\n",
       "      <td>0.16</td>\n",
       "      <td>N</td>\n",
       "      <td>5</td>\n",
       "    </tr>\n",
       "    <tr>\n",
       "      <th>2</th>\n",
       "      <td>34</td>\n",
       "      <td>27000</td>\n",
       "      <td>RENT</td>\n",
       "      <td>3.0</td>\n",
       "      <td>VENTURE</td>\n",
       "      <td>1</td>\n",
       "      <td>2525.0</td>\n",
       "      <td>12.21</td>\n",
       "      <td>0</td>\n",
       "      <td>0.09</td>\n",
       "      <td>N</td>\n",
       "      <td>7</td>\n",
       "    </tr>\n",
       "    <tr>\n",
       "      <th>3</th>\n",
       "      <td>31</td>\n",
       "      <td>82524</td>\n",
       "      <td>MORTGAGE</td>\n",
       "      <td>4.0</td>\n",
       "      <td>VENTURE</td>\n",
       "      <td>0</td>\n",
       "      <td>12000.0</td>\n",
       "      <td>6.62</td>\n",
       "      <td>0</td>\n",
       "      <td>0.15</td>\n",
       "      <td>N</td>\n",
       "      <td>8</td>\n",
       "    </tr>\n",
       "    <tr>\n",
       "      <th>4</th>\n",
       "      <td>23</td>\n",
       "      <td>79992</td>\n",
       "      <td>MORTGAGE</td>\n",
       "      <td>7.0</td>\n",
       "      <td>DEBTCONSOLIDATION</td>\n",
       "      <td>1</td>\n",
       "      <td>6000.0</td>\n",
       "      <td>NaN</td>\n",
       "      <td>0</td>\n",
       "      <td>0.08</td>\n",
       "      <td>N</td>\n",
       "      <td>3</td>\n",
       "    </tr>\n",
       "  </tbody>\n",
       "</table>\n",
       "</div>"
      ],
      "text/plain": [
       "   person_age  person_income person_home_ownership  person_emp_length  \\\n",
       "0          23          39292              MORTGAGE                3.0   \n",
       "1          32          45000              MORTGAGE                NaN   \n",
       "2          34          27000                  RENT                3.0   \n",
       "3          31          82524              MORTGAGE                4.0   \n",
       "4          23          79992              MORTGAGE                7.0   \n",
       "\n",
       "         loan_intent  loan_grade  loan_amnt  loan_int_rate  loan_status  \\\n",
       "0           PERSONAL           0     3250.0            NaN            1   \n",
       "1           PERSONAL           1     7200.0          12.69            0   \n",
       "2            VENTURE           1     2525.0          12.21            0   \n",
       "3            VENTURE           0    12000.0           6.62            0   \n",
       "4  DEBTCONSOLIDATION           1     6000.0            NaN            0   \n",
       "\n",
       "  loan_percent_income cb_person_default_on_file cb_person_cred_hist_length  \n",
       "0                0.08                         N                          4  \n",
       "1                0.16                         N                          5  \n",
       "2                0.09                         N                          7  \n",
       "3                0.15                         N                          8  \n",
       "4                0.08                         N                          3  "
      ]
     },
     "execution_count": 239,
     "metadata": {},
     "output_type": "execute_result"
    }
   ],
   "source": [
    "df.head()"
   ]
  },
  {
   "cell_type": "code",
   "execution_count": 240,
   "metadata": {},
   "outputs": [
    {
     "data": {
      "text/plain": [
       "0    26138\n",
       "1     7256\n",
       "Name: loan_status, dtype: int64"
      ]
     },
     "execution_count": 240,
     "metadata": {},
     "output_type": "execute_result"
    }
   ],
   "source": [
    "df['loan_status'].value_counts()"
   ]
  },
  {
   "cell_type": "code",
   "execution_count": 241,
   "metadata": {},
   "outputs": [
    {
     "data": {
      "text/plain": [
       "0.1     1573\n",
       "0.13    1524\n",
       "0.08    1471\n",
       "0.07    1442\n",
       "0.11    1421\n",
       "        ... \n",
       "0.83       1\n",
       "0.78       1\n",
       "0.62       1\n",
       "0.76       1\n",
       "0.72       1\n",
       "Name: loan_percent_income, Length: 77, dtype: int64"
      ]
     },
     "execution_count": 241,
     "metadata": {},
     "output_type": "execute_result"
    }
   ],
   "source": [
    "df['loan_percent_income'].value_counts()"
   ]
  },
  {
   "cell_type": "markdown",
   "metadata": {
    "id": "lqUNJMaynlBr"
   },
   "source": [
    "<font color=pink|black|black>*###SUA RESPOSTA TERMINA AQUI###*</font>"
   ]
  },
  {
   "cell_type": "markdown",
   "metadata": {
    "id": "KZMWCyE2nlBr"
   },
   "source": [
    "## Caso deseje realizar outra(s) análise(s) além das propostas nos exercícios anteriores, utilize o espaço abaixo:\n",
    "<font color=pink|black|black>*###SUA RESPOSTA COMECA AQUI###*</font>"
   ]
  },
  {
   "cell_type": "code",
   "execution_count": 242,
   "metadata": {
    "id": "x4WOdbwsnlBr"
   },
   "outputs": [
    {
     "data": {
      "text/html": [
       "<div>\n",
       "<style scoped>\n",
       "    .dataframe tbody tr th:only-of-type {\n",
       "        vertical-align: middle;\n",
       "    }\n",
       "\n",
       "    .dataframe tbody tr th {\n",
       "        vertical-align: top;\n",
       "    }\n",
       "\n",
       "    .dataframe thead th {\n",
       "        text-align: right;\n",
       "    }\n",
       "</style>\n",
       "<table border=\"1\" class=\"dataframe\">\n",
       "  <thead>\n",
       "    <tr style=\"text-align: right;\">\n",
       "      <th></th>\n",
       "      <th>person_age</th>\n",
       "      <th>person_income</th>\n",
       "      <th>person_home_ownership</th>\n",
       "      <th>person_emp_length</th>\n",
       "      <th>loan_intent</th>\n",
       "      <th>loan_grade</th>\n",
       "      <th>loan_amnt</th>\n",
       "      <th>loan_int_rate</th>\n",
       "      <th>loan_status</th>\n",
       "      <th>loan_percent_income</th>\n",
       "      <th>cb_person_default_on_file</th>\n",
       "      <th>cb_person_cred_hist_length</th>\n",
       "    </tr>\n",
       "  </thead>\n",
       "  <tbody>\n",
       "    <tr>\n",
       "      <th>0</th>\n",
       "      <td>23</td>\n",
       "      <td>39292</td>\n",
       "      <td>MORTGAGE</td>\n",
       "      <td>3.0</td>\n",
       "      <td>PERSONAL</td>\n",
       "      <td>0</td>\n",
       "      <td>3250.0</td>\n",
       "      <td>NaN</td>\n",
       "      <td>1</td>\n",
       "      <td>0.08</td>\n",
       "      <td>N</td>\n",
       "      <td>4</td>\n",
       "    </tr>\n",
       "    <tr>\n",
       "      <th>1</th>\n",
       "      <td>32</td>\n",
       "      <td>45000</td>\n",
       "      <td>MORTGAGE</td>\n",
       "      <td>NaN</td>\n",
       "      <td>PERSONAL</td>\n",
       "      <td>1</td>\n",
       "      <td>7200.0</td>\n",
       "      <td>12.69</td>\n",
       "      <td>0</td>\n",
       "      <td>0.16</td>\n",
       "      <td>N</td>\n",
       "      <td>5</td>\n",
       "    </tr>\n",
       "    <tr>\n",
       "      <th>2</th>\n",
       "      <td>34</td>\n",
       "      <td>27000</td>\n",
       "      <td>RENT</td>\n",
       "      <td>3.0</td>\n",
       "      <td>VENTURE</td>\n",
       "      <td>1</td>\n",
       "      <td>2525.0</td>\n",
       "      <td>12.21</td>\n",
       "      <td>0</td>\n",
       "      <td>0.09</td>\n",
       "      <td>N</td>\n",
       "      <td>7</td>\n",
       "    </tr>\n",
       "    <tr>\n",
       "      <th>3</th>\n",
       "      <td>31</td>\n",
       "      <td>82524</td>\n",
       "      <td>MORTGAGE</td>\n",
       "      <td>4.0</td>\n",
       "      <td>VENTURE</td>\n",
       "      <td>0</td>\n",
       "      <td>12000.0</td>\n",
       "      <td>6.62</td>\n",
       "      <td>0</td>\n",
       "      <td>0.15</td>\n",
       "      <td>N</td>\n",
       "      <td>8</td>\n",
       "    </tr>\n",
       "    <tr>\n",
       "      <th>4</th>\n",
       "      <td>23</td>\n",
       "      <td>79992</td>\n",
       "      <td>MORTGAGE</td>\n",
       "      <td>7.0</td>\n",
       "      <td>DEBTCONSOLIDATION</td>\n",
       "      <td>1</td>\n",
       "      <td>6000.0</td>\n",
       "      <td>NaN</td>\n",
       "      <td>0</td>\n",
       "      <td>0.08</td>\n",
       "      <td>N</td>\n",
       "      <td>3</td>\n",
       "    </tr>\n",
       "  </tbody>\n",
       "</table>\n",
       "</div>"
      ],
      "text/plain": [
       "   person_age  person_income person_home_ownership  person_emp_length  \\\n",
       "0          23          39292              MORTGAGE                3.0   \n",
       "1          32          45000              MORTGAGE                NaN   \n",
       "2          34          27000                  RENT                3.0   \n",
       "3          31          82524              MORTGAGE                4.0   \n",
       "4          23          79992              MORTGAGE                7.0   \n",
       "\n",
       "         loan_intent  loan_grade  loan_amnt  loan_int_rate  loan_status  \\\n",
       "0           PERSONAL           0     3250.0            NaN            1   \n",
       "1           PERSONAL           1     7200.0          12.69            0   \n",
       "2            VENTURE           1     2525.0          12.21            0   \n",
       "3            VENTURE           0    12000.0           6.62            0   \n",
       "4  DEBTCONSOLIDATION           1     6000.0            NaN            0   \n",
       "\n",
       "  loan_percent_income cb_person_default_on_file cb_person_cred_hist_length  \n",
       "0                0.08                         N                          4  \n",
       "1                0.16                         N                          5  \n",
       "2                0.09                         N                          7  \n",
       "3                0.15                         N                          8  \n",
       "4                0.08                         N                          3  "
      ]
     },
     "execution_count": 242,
     "metadata": {},
     "output_type": "execute_result"
    }
   ],
   "source": [
    "df.head()"
   ]
  },
  {
   "cell_type": "code",
   "execution_count": 259,
   "metadata": {},
   "outputs": [
    {
     "data": {
      "image/png": "[encoded data removed]",
      "text/plain": [
       "<Figure size 864x504 with 1 Axes>"
      ]
     },
     "metadata": {
      "needs_background": "light"
     },
     "output_type": "display_data"
    }
   ],
   "source": [
    "# Visualizando o objetivo do empréstimo\n",
    "\n",
    "fig = plt.figure(figsize=(12,7))\n",
    "sns.countplot(df['loan_intent'],palette=\"pastel\")\n",
    "plt.title('Objetivo do empréstimo', fontsize = 18, color='#273746', weight='bold')\n",
    "plt.xlabel('Motivos', fontsize = 14, color='#273746')\n",
    "plt.ylabel('Contagem', fontsize = 14, color='#273746')\n",
    "\n",
    "plt.show()"
   ]
  },
  {
   "cell_type": "markdown",
   "metadata": {},
   "source": [
    "* Podemos concluir que grande parte dos empréstimos são destinados a educação e a médico. "
   ]
  },
  {
   "cell_type": "code",
   "execution_count": 258,
   "metadata": {},
   "outputs": [
    {
     "data": {
      "image/png": "[encoded data removed]",
      "text/plain": [
       "<Figure size 864x504 with 1 Axes>"
      ]
     },
     "metadata": {
      "needs_background": "light"
     },
     "output_type": "display_data"
    }
   ],
   "source": [
    "# Visualizando o tipo de propriedade \n",
    "\n",
    "fig = plt.figure(figsize=(12,7))\n",
    "sns.countplot(df['person_home_ownership'],palette=\"pastel\")\n",
    "plt.title('Tipo de propriedade da casa', fontsize = 18, color='#273746', weight='bold')\n",
    "plt.xlabel('Propriedade', fontsize = 14, color='#273746')\n",
    "plt.ylabel('Contagem', fontsize = 14, color='#273746')\n",
    "\n",
    "plt.show()"
   ]
  },
  {
   "cell_type": "markdown",
   "metadata": {},
   "source": [
    "* Pessoas que estão em situação de aluguel ou hipoteca são as que mais pedem empréstimos"
   ]
  },
  {
   "cell_type": "code",
   "execution_count": 248,
   "metadata": {},
   "outputs": [
    {
     "name": "stdout",
     "output_type": "stream",
     "text": [
      "Idade mínima presente no dataset 20\n",
      "Idade máximo presente no dataset 144\n"
     ]
    }
   ],
   "source": [
    "# 1) Visualizando os valores máx e mín da variável person_age\n",
    "\n",
    "print(f'Idade mínima presente no dataset {df[\"person_age\"].min()}\\n' +\n",
    "      f'Idade máximo presente no dataset {df[\"person_age\"].max()}')"
   ]
  },
  {
   "cell_type": "code",
   "execution_count": 249,
   "metadata": {},
   "outputs": [
    {
     "name": "stdout",
     "output_type": "stream",
     "text": [
      "Tempo mínimo que a pessoa está empregada no dataset 0.0\n",
      "Tempo máximo que a pessoa está empregada no dataset 123.0\n"
     ]
    }
   ],
   "source": [
    "# 2) Visualizando os valores máx e mín do tempo de empregado\n",
    "\n",
    "print(f'Tempo mínimo que a pessoa está empregada no dataset {df[\"person_emp_length\"].min()}\\n' +\n",
    "      f'Tempo máximo que a pessoa está empregada no dataset {df[\"person_emp_length\"].max()}')"
   ]
  },
  {
   "cell_type": "code",
   "execution_count": 250,
   "metadata": {},
   "outputs": [
    {
     "data": {
      "image/png": "[encoded data removed]",
      "text/plain": [
       "<Figure size 864x504 with 1 Axes>"
      ]
     },
     "metadata": {
      "needs_background": "light"
     },
     "output_type": "display_data"
    }
   ],
   "source": [
    "# 3) verificando como os dados estão distribuidos (idade e tempo empregado)\n",
    "\n",
    "fig = plt.figure(figsize=(12,7))\n",
    "sns.scatterplot(data=df, x=\"person_age\", y=\"person_emp_length\")\n",
    "plt.title(\"Idade X Tempo empregado\", fontsize = 18, color='#273746', weight='bold')\n",
    "plt.xlabel('Idade da pessoa', fontsize = 13, color='#273746')\n",
    "plt.ylabel('Tempo empregada', fontsize = 13, color='#273746')\n",
    "\n",
    "plt.show()"
   ]
  },
  {
   "cell_type": "code",
   "execution_count": 260,
   "metadata": {},
   "outputs": [
    {
     "data": {
      "image/png": "[encoded data removed]",
      "text/plain": [
       "<Figure size 864x504 with 1 Axes>"
      ]
     },
     "metadata": {
      "needs_background": "light"
     },
     "output_type": "display_data"
    }
   ],
   "source": [
    "# Visualizando a renda anual por idade\n",
    "\n",
    "fig = plt.figure(figsize=(12,7))\n",
    "sns.scatterplot(data=df, x=\"person_age\", y=\"person_income\")\n",
    "plt.title(\"Idade X Renda Anual\", fontsize = 18, color='#273746', weight='bold')\n",
    "plt.xlabel('Idade da pessoa', fontsize = 13, color='#273746')\n",
    "plt.ylabel('Renda Anual', fontsize = 13, color='#273746')\n",
    "\n",
    "# formantando o label y\n",
    "current_values = plt.gca().get_yticks()\n",
    "plt.gca().set_yticklabels(['{:,.0f}'.format(x) for x in current_values])\n",
    "\n",
    "plt.show()"
   ]
  },
  {
   "cell_type": "markdown",
   "metadata": {},
   "source": [
    "* 1) person_age tem um resultado estranho, o valor máximo é 144, o que é improvável.\n",
    "* 2) person_emp_length tem um valor máximo de 123, o que é impossível.\n",
    "* 3) É impossível que duas pessoas de 20 anos tenham mais de 120 anos de trabalho."
   ]
  },
  {
   "cell_type": "markdown",
   "metadata": {
    "id": "o7oyXv3ynlBr"
   },
   "source": [
    "<font color=pink|black|black>*###SUA RESPOSTA TERMINA AQUI###*</font>"
   ]
  },
  {
   "cell_type": "markdown",
   "metadata": {
    "id": "4trW1UUPnlBs"
   },
   "source": [
    "# 5. Conclusão\n",
    "Ufa, parabéns por chegar até aqui!\n",
    "Na célula de \"markdown\" (texto) abaixo, gostaríamos que você desse uma conclusão sobre sua análise. Nos conte sobre a situação atual da empresa, as linhas de crédito mais rentáveis e os tipos de pessoas que devem ser o público-alvo do Dev.\n",
    "\n",
    "**Obs**: As conclusões e análises críticas mais bem avaliadas serão aquelas que usarem os dados fornecidos como fundamento, desde que você tenha mostrado esse dado anteriormente."
   ]
  },
  {
   "cell_type": "markdown",
   "metadata": {
    "id": "0ygN7pecnlBs"
   },
   "source": [
    "<font color=pink|black|black>*###SUA RESPOSTA COMECA AQUI###*</font>"
   ]
  },
  {
   "cell_type": "markdown",
   "metadata": {
    "id": "RP7qrhQJnlBt"
   },
   "source": [
    "* Em primeiro lugar, fizemos uma visualização básica dos dados para entender o que tinhamos em mãos. Em seguida, fizemos a limpeza do nosso conjunto de dados, transformando-os em 2 datasets dieferentes, o df original e o devers. O dataset devers, continha alguns dados com os membros da Dev, que foi separado e exportado em um arquivo csv. Posteriormente, iniciamos a visualização de dados e vimos que a linha de crédito mais desejada é a de 10.000, seguida da de 5.000 . Entedemos que conforme o score vai mudando de categoria, a taxa de juros tende a aumentar. Buscamos entender os principais objetivos para quem solicita o empréstimos, em primeiro lugar destinado à educação e logo em seguida para fins médicos. Por fim, vimos que pessoas em situação de aluguel lideram as solicitações de crédito.\n"
   ]
  },
  {
   "cell_type": "markdown",
   "metadata": {
    "id": "q_lI_adFnlBt"
   },
   "source": [
    "<font color=pink|black|black>*###SUA RESPOSTA TERMINA AQUI###*</font>"
   ]
  },
  {
   "cell_type": "markdown",
   "metadata": {
    "id": "ji5gNNWEnlBu"
   },
   "source": [
    "# <font color=blue|blue|red>Referências: </font>\n",
    "\n",
    "Insira suas fontes no markdown abaixo:"
   ]
  },
  {
   "cell_type": "markdown",
   "metadata": {
    "id": "RC350Xz2nlBu"
   },
   "source": [
    "* [Pandas](https://pandas.pydata.org/docs/reference/frame.html)\n",
    "* [Correlação](https://www.ime.usp.br/~hbolfar/aula_2013/Aula%203%20-%20Descritiva%20III%20-%20A12012)\n",
    "* [seaborn](https://seaborn.pydata.org/)\n",
    "* [MissionNO](https://github.com/ResidentMario/missingno)\n",
    "* [stack overflow](https://stackoverflow.com/)"
   ]
  },
  {
   "cell_type": "markdown",
   "metadata": {
    "id": "nHAU8SCfnlBv"
   },
   "source": [
    "Bom, chegamos ao fim do Case Avançado! Muito obrigado pela participação, ficamos muito felizes que você chegou até o fim e esperamos que tenha aprendido bastante nessa fase do PS. \n",
    "\n",
    "Qualquer dúvida estamos a sua disposição nas nossas redes sociais:\n",
    "  - Facebook: https://www.facebook.com/fea.dev\n",
    "  - Instagram: https://www.instagram.com/fea.dev/\n",
    "  - Twitter:https://twitter.com/fea_dev"
   ]
  },
  {
   "cell_type": "markdown",
   "metadata": {
    "id": "IrnvlbS2nlBv"
   },
   "source": [
    "<div align='center'><a href='https://linktr.ee/fea.dev'/ style='display:inline-block'><img src=\" data:image/png;base64,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\" height=\"100%\" width=\"350\" ><a/><div/>"
   ]
  }
 ],
 "metadata": {
  "colab": {
   "collapsed_sections": [],
   "name": "Case intermediário - Final.ipynb",
   "provenance": []
  },
  "kernelspec": {
   "display_name": "Python 3 (ipykernel)",
   "language": "python",
   "name": "python3"
  },
  "language_info": {
   "codemirror_mode": {
    "name": "ipython",
    "version": 3
   },
   "file_extension": ".py",
   "mimetype": "text/x-python",
   "name": "python",
   "nbconvert_exporter": "python",
   "pygments_lexer": "ipython3",
   "version": "3.9.12"
  },
  "varInspector": {
   "cols": {
    "lenName": 16,
    "lenType": 16,
    "lenVar": 40
   },
   "kernels_config": {
    "python": {
     "delete_cmd_postfix": "",
     "delete_cmd_prefix": "del ",
     "library": "var_list.py",
     "varRefreshCmd": "print(var_dic_list())"
    },
    "r": {
     "delete_cmd_postfix": ") ",
     "delete_cmd_prefix": "rm(",
     "library": "var_list.r",
     "varRefreshCmd": "cat(var_dic_list()) "
    }
   },
   "types_to_exclude": [
    "module",
    "function",
    "builtin_function_or_method",
    "instance",
    "_Feature"
   ],
   "window_display": false
  }
 },
 "nbformat": 4,
 "nbformat_minor": 1
}
