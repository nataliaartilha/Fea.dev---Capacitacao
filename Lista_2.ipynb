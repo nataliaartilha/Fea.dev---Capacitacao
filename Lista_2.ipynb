{
 "cells": [
  {
   "cell_type": "markdown",
   "id": "19ba480c",
   "metadata": {},
   "source": [
    "# Lista de Exercícios"
   ]
  },
  {
   "cell_type": "markdown",
   "id": "dffd9d9c",
   "metadata": {},
   "source": [
    "1) Crie um array formado de números (de 0 a 10) de tamanho 5 e atribua ele a uma variável chamada \"arr1\""
   ]
  },
  {
   "cell_type": "code",
   "execution_count": 42,
   "id": "9f8eddf9",
   "metadata": {},
   "outputs": [
    {
     "data": {
      "text/plain": [
       "array([2, 3, 4, 5, 6])"
      ]
     },
     "execution_count": 42,
     "metadata": {},
     "output_type": "execute_result"
    }
   ],
   "source": [
    "import numpy as np\n",
    "\n",
    "ar=[2,3,4,5,6]\n",
    "arr1=np.array(ar)\n",
    "arr1\n",
    "\n"
   ]
  },
  {
   "cell_type": "markdown",
   "id": "ac6c1fb7",
   "metadata": {},
   "source": [
    "Suponha que os elementos do \"arr1\" são suas notas em uma determinada disciplina da faculdade. Daqui em diante vamos descobrir se você será aprovado(a) ou não."
   ]
  },
  {
   "cell_type": "markdown",
   "id": "fb969d9e",
   "metadata": {},
   "source": [
    "2) Você descobriu que normalmente a professora tira a média simples das notas e que para a aprovação é necessária uma nota acima de 5. Com isso em mente, encontre a sua média e printe o resultado."
   ]
  },
  {
   "cell_type": "code",
   "execution_count": 34,
   "id": "b321b331",
   "metadata": {},
   "outputs": [
    {
     "name": "stdout",
     "output_type": "stream",
     "text": [
      "4.0\n"
     ]
    }
   ],
   "source": [
    "media = sum(arr1)/len(arr1)\n",
    "print(media)"
   ]
  },
  {
   "cell_type": "markdown",
   "id": "3c5cb2bd",
   "metadata": {},
   "source": [
    "3) Após ter o resultado inicial na 2), você descobre que a professora decidiu alterar o método nesse semestre e a sua média será feita de uma forma diferente. Ela anunciou que para a aprovação é necessário que ao menos 3 das 5 notas tenham sido acima de 5 e que, dentre essas notas, ao menos uma tenha o valor maior ou igual a 7."
   ]
  },
  {
   "cell_type": "markdown",
   "id": "568114da",
   "metadata": {},
   "source": [
    "a) Retorne a quantidade de notas acima de 5"
   ]
  },
  {
   "cell_type": "code",
   "execution_count": 35,
   "id": "7ffc14f2",
   "metadata": {},
   "outputs": [
    {
     "name": "stdout",
     "output_type": "stream",
     "text": [
      "1\n"
     ]
    }
   ],
   "source": [
    "x=0\n",
    "for n in arr1:\n",
    "    if n>5:\n",
    "        x=x+1\n",
    "print(x)"
   ]
  },
  {
   "cell_type": "markdown",
   "id": "307f91a7",
   "metadata": {},
   "source": [
    "b) Caso na a) o valor seja maior ou igual a 3, crie um novo array com esses números e descubra o resultado da aprovação"
   ]
  },
  {
   "cell_type": "code",
   "execution_count": 38,
   "id": "c5d7def2",
   "metadata": {},
   "outputs": [
    {
     "name": "stdout",
     "output_type": "stream",
     "text": [
      "a é menor que 3\n"
     ]
    }
   ],
   "source": [
    "if x>=3:\n",
    "    new_array=arr1[arr1>=5]\n",
    "    media2 = sum(new_array)/len(new_array)\n",
    "    if media2>=5:\n",
    "        print('Aprovadx')\n",
    "    else:\n",
    "        print('Reprovadx')\n",
    "else:\n",
    "    print('a é menor que 3')"
   ]
  },
  {
   "cell_type": "markdown",
   "id": "b7f89b59",
   "metadata": {},
   "source": [
    "c) Caso na a) o valor seja menor do que 3, crie um novo array com esses números, e descubra se você conseguirá fazer a reaval (para isso é necessário que, dentre essas notas menores do que 5, a sua média tenha sido ao menos 3)"
   ]
  },
  {
   "cell_type": "code",
   "execution_count": 39,
   "id": "ce2b1db4",
   "metadata": {},
   "outputs": [
    {
     "name": "stdout",
     "output_type": "stream",
     "text": [
      "Vai para reaval\n"
     ]
    }
   ],
   "source": [
    "if x<3:\n",
    "    new_array2=arr1[arr1<5]\n",
    "    media3 = sum(new_array2)/len(new_array2)\n",
    "    if media3>=3:\n",
    "        print('Vai para reaval')\n",
    "    else:\n",
    "        print('Não vai para reaval')\n",
    "else:\n",
    "    print('O valor é maior que 3')"
   ]
  },
  {
   "cell_type": "markdown",
   "id": "922f9b48",
   "metadata": {},
   "source": [
    "4) Dada a facilidade de se mexer com as notas usando Numpy você decidiu criar novos arrays com suas notas em outras matérias. Crie 2 novos arrays com as mesmas características do que o \"arr1\""
   ]
  },
  {
   "cell_type": "code",
   "execution_count": 40,
   "id": "1aa591e9",
   "metadata": {},
   "outputs": [
    {
     "name": "stdout",
     "output_type": "stream",
     "text": [
      "[4 5 6 7 8]\n",
      "[5 8 1 2 9]\n"
     ]
    }
   ],
   "source": [
    "ar2=[4,5,6,7,8]\n",
    "arr2=np.array(ar2)\n",
    "print(arr2)\n",
    "\n",
    "ar3=[5,8,1,2,9]\n",
    "arr3=np.array(ar3)\n",
    "print(arr3)\n"
   ]
  },
  {
   "cell_type": "markdown",
   "id": "258cbb31",
   "metadata": {},
   "source": [
    "5) a)Transforme os 3 arrays em um único array, de tamanho (3,5)"
   ]
  },
  {
   "cell_type": "code",
   "execution_count": 46,
   "id": "bd74fe1e",
   "metadata": {},
   "outputs": [
    {
     "data": {
      "text/plain": [
       "array([[[2, 3, 4, 5, 6]],\n",
       "\n",
       "       [[4, 5, 6, 7, 8]],\n",
       "\n",
       "       [[5, 8, 1, 2, 9]]])"
      ]
     },
     "execution_count": 46,
     "metadata": {},
     "output_type": "execute_result"
    }
   ],
   "source": [
    "big_array=np.array([[arr1],[arr2],[arr3]])\n",
    "big_array"
   ]
  },
  {
   "cell_type": "markdown",
   "id": "52c7d47e",
   "metadata": {},
   "source": [
    "b) Mude o formato de a) para (5,3)"
   ]
  },
  {
   "cell_type": "code",
   "execution_count": 47,
   "id": "35b52574",
   "metadata": {},
   "outputs": [
    {
     "data": {
      "text/plain": [
       "array([[2, 3, 4],\n",
       "       [5, 6, 4],\n",
       "       [5, 6, 7],\n",
       "       [8, 5, 8],\n",
       "       [1, 2, 9]])"
      ]
     },
     "execution_count": 47,
     "metadata": {},
     "output_type": "execute_result"
    }
   ],
   "source": [
    "big_array.reshape(5,3)"
   ]
  },
  {
   "cell_type": "markdown",
   "id": "4e7b35a8",
   "metadata": {},
   "source": [
    "6) A lista inf_anual tem os dados da inflação anual dos últimos anos (2012,2020) no Brasil (IPCA), crie um array chamado \"inflacao_br\" com os dados da lista\n"
   ]
  },
  {
   "cell_type": "code",
   "execution_count": 67,
   "id": "2fd89475",
   "metadata": {},
   "outputs": [
    {
     "data": {
      "text/plain": [
       "array([ 5.84,  5.91,  6.41, 10.67,  6.29,  2.95,  3.75,  4.31,  4.52])"
      ]
     },
     "execution_count": 67,
     "metadata": {},
     "output_type": "execute_result"
    }
   ],
   "source": [
    "inf_anual = [5.84,5.91,6.41,10.67,6.29,2.95,3.75,4.31,4.52]\n",
    "inflacao_br=np.array(inf_anual)\n",
    "inflacao_br"
   ]
  },
  {
   "cell_type": "markdown",
   "id": "e0c17d7f",
   "metadata": {},
   "source": [
    "7) Suponha que a meta da inflação ficou constante em 4.5 ao longo desses anos, com uma tolerância de 1.5 para mais ou para menos. Descubra em quais anos o número ficou fora dessa tolerância e retorne um array com 1 se isso é verdade, e 0 caso contrário."
   ]
  },
  {
   "cell_type": "code",
   "execution_count": 68,
   "id": "acdce620",
   "metadata": {},
   "outputs": [
    {
     "name": "stdout",
     "output_type": "stream",
     "text": [
      "[0, 0, 1, 1, 1, 1, 0, 0, 0]\n"
     ]
    }
   ],
   "source": [
    "verif=[]\n",
    "for n in inflacao_br:\n",
    "    if n<3 or n>6:\n",
    "        verif.append(1)\n",
    "    else:\n",
    "        verif.append(0)\n",
    "print(verif)\n",
    "        \n",
    "        "
   ]
  },
  {
   "cell_type": "markdown",
   "id": "acb34520",
   "metadata": {},
   "source": [
    "8) Plote um gráfico que mostre a evolução anual da inflação, use os anos para o eixo x e a inflação ao eixo y. Nomeie o eixo x como anos e y IPCA, coloque uma cor laranja à reta de inflação."
   ]
  },
  {
   "cell_type": "code",
   "execution_count": 73,
   "id": "34e46b9e",
   "metadata": {},
   "outputs": [
    {
     "data": {
      "image/png": "[encoded data removed]",
      "text/plain": [
       "<Figure size 432x288 with 1 Axes>"
      ]
     },
     "metadata": {
      "needs_background": "light"
     },
     "output_type": "display_data"
    }
   ],
   "source": [
    "import matplotlib.pyplot as plt\n",
    "anos=[2012,2013,2014,2015,2016,2017,2018,2019,2020]\n",
    "IPCA=inflacao_br\n",
    "plt.plot(anos,IPCA,color='orange')\n",
    "plt.xlabel('Year')\n",
    "plt.ylabel('Inflation')\n",
    "plt.title('Inflation per year')\n",
    "plt.show()"
   ]
  },
  {
   "cell_type": "markdown",
   "id": "4bcd39e8",
   "metadata": {},
   "source": [
    "b) Descreva o comportamento do gráfico."
   ]
  },
  {
   "cell_type": "code",
   "execution_count": null,
   "id": "c96aec8f",
   "metadata": {},
   "outputs": [],
   "source": [
    "#A inflação no Brasil permaneceu praticamente inalterada entre 2012 até 2014. \n",
    "#Em seguida houve um aumento grande até 2015 de 5%, \n",
    "#Depois queda até 2017, onde a inflação se encontrava na casa dos 3%.\n",
    "#E de 2017 até 2020, ela cresceu um pouco, cerca de 2%."
   ]
  }
 ],
 "metadata": {
  "kernelspec": {
   "display_name": "Python 3 (ipykernel)",
   "language": "python",
   "name": "python3"
  },
  "language_info": {
   "codemirror_mode": {
    "name": "ipython",
    "version": 3
   },
   "file_extension": ".py",
   "mimetype": "text/x-python",
   "name": "python",
   "nbconvert_exporter": "python",
   "pygments_lexer": "ipython3",
   "version": "3.9.12"
  }
 },
 "nbformat": 4,
 "nbformat_minor": 5
}
